{
  "nbformat": 4,
  "nbformat_minor": 0,
  "metadata": {
    "colab": {
      "name": "Spectroscopy Data Analysis and Prediction.ipynb",
      "provenance": [],
      "mount_file_id": "1lc4TeZf2InD9TWRso3RWW21yF-3d98Cq",
      "authorship_tag": "ABX9TyNyblhTVWAW22d/0MXx8tB4",
      "include_colab_link": true
    },
    "kernelspec": {
      "name": "python3",
      "display_name": "Python 3"
    },
    "language_info": {
      "name": "python"
    },
    "accelerator": "GPU"
  },
  "cells": [
    {
      "cell_type": "markdown",
      "metadata": {
        "id": "view-in-github",
        "colab_type": "text"
      },
      "source": [
        "<a href=\"https://colab.research.google.com/github/choprahetarth/Spectral-Data-Prediction-TMLC/blob/main/Spectroscopy_Data_Analysis_and_Prediction.ipynb\" target=\"_parent\"><img src=\"https://colab.research.google.com/assets/colab-badge.svg\" alt=\"Open In Colab\"/></a>"
      ]
    },
    {
      "cell_type": "markdown",
      "metadata": {
        "id": "xWverTYsvF9_"
      },
      "source": [
        "# ANN Based Spectral Data Analysis and Prediction\n",
        "On the given dataset, following operations were performed to get an ideal MAPE of ~1.69.\n",
        "\n",
        "- The dataset was loaded and EDA was performed, and it was ensured that multi-colinearity was removed.\n",
        "- The dataset was normalized and trained on a baseline model scoring a MAPE of 5.9318.\n",
        "- Using Keras Tuner, a hyper-parameter optimized model was trained, and using that, the final predictions provided a MAPE of 1.685780."
      ]
    },
    {
      "cell_type": "code",
      "metadata": {
        "id": "mXYt2luk33tJ"
      },
      "source": [
        "!pip install -q -U keras-tuner --quiet"
      ],
      "execution_count": 43,
      "outputs": []
    },
    {
      "cell_type": "code",
      "metadata": {
        "id": "XoUHSqxofyJk"
      },
      "source": [
        "#import libraries\n",
        "# TODO - Remove Irrelevant libraries\n",
        "import numpy as np\n",
        "import pandas as pd\n",
        "import seaborn as sns\n",
        "import os \n",
        "import sys\n",
        "import matplotlib.pyplot as plt\n",
        "from pandas import plotting\n",
        "import random\n",
        "import sklearn\n",
        "from sklearn.preprocessing import LabelEncoder\n",
        "from sklearn.metrics import f1_score\n",
        "from sklearn.model_selection import train_test_split\n",
        "import tensorflow as tf\n",
        "from tensorflow import keras\n",
        "from tensorflow.keras import layers\n",
        "from tensorflow.keras.layers.experimental import preprocessing\n",
        "from sklearn.model_selection import train_test_split\n",
        "from kerastuner.tuners import RandomSearch\n",
        "\n",
        "SEED = 0"
      ],
      "execution_count": 44,
      "outputs": []
    },
    {
      "cell_type": "code",
      "metadata": {
        "colab": {
          "base_uri": "https://localhost:8080/"
        },
        "id": "hgIbo5JAnK3b",
        "outputId": "08e430c9-2037-4bab-fd91-cdcf5d9fcea5"
      },
      "source": [
        "!nvidia-smi"
      ],
      "execution_count": 45,
      "outputs": [
        {
          "output_type": "stream",
          "text": [
            "Tue Aug 17 11:03:23 2021       \n",
            "+-----------------------------------------------------------------------------+\n",
            "| NVIDIA-SMI 470.57.02    Driver Version: 460.32.03    CUDA Version: 11.2     |\n",
            "|-------------------------------+----------------------+----------------------+\n",
            "| GPU  Name        Persistence-M| Bus-Id        Disp.A | Volatile Uncorr. ECC |\n",
            "| Fan  Temp  Perf  Pwr:Usage/Cap|         Memory-Usage | GPU-Util  Compute M. |\n",
            "|                               |                      |               MIG M. |\n",
            "|===============================+======================+======================|\n",
            "|   0  Tesla K80           Off  | 00000000:00:04.0 Off |                    0 |\n",
            "| N/A   66C    P0    74W / 149W |    173MiB / 11441MiB |      0%      Default |\n",
            "|                               |                      |                  N/A |\n",
            "+-------------------------------+----------------------+----------------------+\n",
            "                                                                               \n",
            "+-----------------------------------------------------------------------------+\n",
            "| Processes:                                                                  |\n",
            "|  GPU   GI   CI        PID   Type   Process name                  GPU Memory |\n",
            "|        ID   ID                                                   Usage      |\n",
            "|=============================================================================|\n",
            "|  No running processes found                                                 |\n",
            "+-----------------------------------------------------------------------------+\n"
          ],
          "name": "stdout"
        }
      ]
    },
    {
      "cell_type": "code",
      "metadata": {
        "colab": {
          "base_uri": "https://localhost:8080/"
        },
        "id": "uN4QzIDymZzC",
        "outputId": "c5ab56d5-4e67-4c7d-82aa-00332cdb11bf"
      },
      "source": [
        "tf.config.list_physical_devices('GPU')"
      ],
      "execution_count": 46,
      "outputs": [
        {
          "output_type": "execute_result",
          "data": {
            "text/plain": [
              "[PhysicalDevice(name='/physical_device:GPU:0', device_type='GPU')]"
            ]
          },
          "metadata": {
            "tags": []
          },
          "execution_count": 46
        }
      ]
    },
    {
      "cell_type": "code",
      "metadata": {
        "colab": {
          "base_uri": "https://localhost:8080/",
          "height": 35
        },
        "id": "youUPvqQ4XKs",
        "outputId": "1e9d0011-56f5-4015-c19c-ae0d829f9c4f"
      },
      "source": [
        "# change the working directory \n",
        "import os \n",
        "os.chdir('/content/drive/MyDrive/Colab Notebooks/TMLC Task')\n",
        "os.getcwd()"
      ],
      "execution_count": 47,
      "outputs": [
        {
          "output_type": "execute_result",
          "data": {
            "application/vnd.google.colaboratory.intrinsic+json": {
              "type": "string"
            },
            "text/plain": [
              "'/content/drive/MyDrive/Colab Notebooks/TMLC Task'"
            ]
          },
          "metadata": {
            "tags": []
          },
          "execution_count": 47
        }
      ]
    },
    {
      "cell_type": "markdown",
      "metadata": {
        "id": "2B3B8QT14nSI"
      },
      "source": [
        "# Data EDA"
      ]
    },
    {
      "cell_type": "code",
      "metadata": {
        "id": "yHC-zBGt4jGC"
      },
      "source": [
        "df = pd.read_csv('NIR Data_V4_noperc_for_plot.csv')"
      ],
      "execution_count": 48,
      "outputs": []
    },
    {
      "cell_type": "code",
      "metadata": {
        "colab": {
          "base_uri": "https://localhost:8080/",
          "height": 251
        },
        "id": "fG15aSVM41Lk",
        "outputId": "0791174a-4a51-478a-ebe1-4e10bb4a0667"
      },
      "source": [
        "# Display the first N rows\n",
        "df.head()"
      ],
      "execution_count": 49,
      "outputs": [
        {
          "output_type": "execute_result",
          "data": {
            "text/html": [
              "<div>\n",
              "<style scoped>\n",
              "    .dataframe tbody tr th:only-of-type {\n",
              "        vertical-align: middle;\n",
              "    }\n",
              "\n",
              "    .dataframe tbody tr th {\n",
              "        vertical-align: top;\n",
              "    }\n",
              "\n",
              "    .dataframe thead th {\n",
              "        text-align: right;\n",
              "    }\n",
              "</style>\n",
              "<table border=\"1\" class=\"dataframe\">\n",
              "  <thead>\n",
              "    <tr style=\"text-align: right;\">\n",
              "      <th></th>\n",
              "      <th>ContentUniformity</th>\n",
              "      <th>1110</th>\n",
              "      <th>1112</th>\n",
              "      <th>1114</th>\n",
              "      <th>1116</th>\n",
              "      <th>1118</th>\n",
              "      <th>1120</th>\n",
              "      <th>1122</th>\n",
              "      <th>1124</th>\n",
              "      <th>1126</th>\n",
              "      <th>1128</th>\n",
              "      <th>1130</th>\n",
              "      <th>1132</th>\n",
              "      <th>1134</th>\n",
              "      <th>1136</th>\n",
              "      <th>1138</th>\n",
              "      <th>1140</th>\n",
              "      <th>1142</th>\n",
              "      <th>1144</th>\n",
              "      <th>1146</th>\n",
              "      <th>1148</th>\n",
              "      <th>1150</th>\n",
              "      <th>1152</th>\n",
              "      <th>1154</th>\n",
              "      <th>1156</th>\n",
              "      <th>1158</th>\n",
              "      <th>1160</th>\n",
              "      <th>1162</th>\n",
              "      <th>1164</th>\n",
              "      <th>1166</th>\n",
              "      <th>1168</th>\n",
              "      <th>1170</th>\n",
              "      <th>1172</th>\n",
              "      <th>1174</th>\n",
              "      <th>1176</th>\n",
              "      <th>1178</th>\n",
              "      <th>1180</th>\n",
              "      <th>1182</th>\n",
              "      <th>1184</th>\n",
              "      <th>1186</th>\n",
              "      <th>...</th>\n",
              "      <th>1722</th>\n",
              "      <th>1724</th>\n",
              "      <th>1726</th>\n",
              "      <th>1728</th>\n",
              "      <th>1730</th>\n",
              "      <th>1732</th>\n",
              "      <th>1734</th>\n",
              "      <th>1736</th>\n",
              "      <th>1738</th>\n",
              "      <th>1740</th>\n",
              "      <th>1742</th>\n",
              "      <th>1744</th>\n",
              "      <th>1746</th>\n",
              "      <th>1748</th>\n",
              "      <th>1750</th>\n",
              "      <th>1752</th>\n",
              "      <th>1754</th>\n",
              "      <th>1756</th>\n",
              "      <th>1758</th>\n",
              "      <th>1760</th>\n",
              "      <th>1762</th>\n",
              "      <th>1764</th>\n",
              "      <th>1766</th>\n",
              "      <th>1768</th>\n",
              "      <th>1770</th>\n",
              "      <th>1772</th>\n",
              "      <th>1774</th>\n",
              "      <th>1776</th>\n",
              "      <th>1778</th>\n",
              "      <th>1780</th>\n",
              "      <th>1782</th>\n",
              "      <th>1784</th>\n",
              "      <th>1786</th>\n",
              "      <th>1788</th>\n",
              "      <th>1790</th>\n",
              "      <th>1792</th>\n",
              "      <th>1794</th>\n",
              "      <th>1796</th>\n",
              "      <th>1798</th>\n",
              "      <th>1800</th>\n",
              "    </tr>\n",
              "  </thead>\n",
              "  <tbody>\n",
              "    <tr>\n",
              "      <th>0</th>\n",
              "      <td>100.1</td>\n",
              "      <td>2.659006</td>\n",
              "      <td>2.672815</td>\n",
              "      <td>2.694220</td>\n",
              "      <td>2.723126</td>\n",
              "      <td>2.760866</td>\n",
              "      <td>2.807864</td>\n",
              "      <td>2.862055</td>\n",
              "      <td>2.920742</td>\n",
              "      <td>2.981253</td>\n",
              "      <td>3.036830</td>\n",
              "      <td>3.087629</td>\n",
              "      <td>3.131265</td>\n",
              "      <td>3.166398</td>\n",
              "      <td>3.197083</td>\n",
              "      <td>3.225053</td>\n",
              "      <td>3.250675</td>\n",
              "      <td>3.275177</td>\n",
              "      <td>3.295606</td>\n",
              "      <td>3.312691</td>\n",
              "      <td>3.327062</td>\n",
              "      <td>3.340695</td>\n",
              "      <td>3.357744</td>\n",
              "      <td>3.380156</td>\n",
              "      <td>3.409389</td>\n",
              "      <td>3.444996</td>\n",
              "      <td>3.483318</td>\n",
              "      <td>3.522238</td>\n",
              "      <td>3.561105</td>\n",
              "      <td>3.596369</td>\n",
              "      <td>3.629168</td>\n",
              "      <td>3.660156</td>\n",
              "      <td>3.690679</td>\n",
              "      <td>3.726464</td>\n",
              "      <td>3.768926</td>\n",
              "      <td>3.818870</td>\n",
              "      <td>3.876354</td>\n",
              "      <td>3.933621</td>\n",
              "      <td>3.986120</td>\n",
              "      <td>4.027669</td>\n",
              "      <td>...</td>\n",
              "      <td>4.839038</td>\n",
              "      <td>4.806024</td>\n",
              "      <td>4.774920</td>\n",
              "      <td>4.737573</td>\n",
              "      <td>4.698571</td>\n",
              "      <td>4.662624</td>\n",
              "      <td>4.625348</td>\n",
              "      <td>4.584910</td>\n",
              "      <td>4.562636</td>\n",
              "      <td>4.537264</td>\n",
              "      <td>4.501718</td>\n",
              "      <td>4.462026</td>\n",
              "      <td>4.437594</td>\n",
              "      <td>4.411307</td>\n",
              "      <td>4.367460</td>\n",
              "      <td>4.335416</td>\n",
              "      <td>4.289590</td>\n",
              "      <td>4.282056</td>\n",
              "      <td>4.233408</td>\n",
              "      <td>4.235710</td>\n",
              "      <td>4.195461</td>\n",
              "      <td>4.169816</td>\n",
              "      <td>4.154829</td>\n",
              "      <td>4.118487</td>\n",
              "      <td>4.101122</td>\n",
              "      <td>4.095057</td>\n",
              "      <td>4.030425</td>\n",
              "      <td>4.028661</td>\n",
              "      <td>4.006373</td>\n",
              "      <td>3.988711</td>\n",
              "      <td>3.964631</td>\n",
              "      <td>3.954412</td>\n",
              "      <td>3.946111</td>\n",
              "      <td>3.911139</td>\n",
              "      <td>3.890765</td>\n",
              "      <td>3.865407</td>\n",
              "      <td>3.841028</td>\n",
              "      <td>3.903085</td>\n",
              "      <td>3.792994</td>\n",
              "      <td>3.794084</td>\n",
              "    </tr>\n",
              "    <tr>\n",
              "      <th>1</th>\n",
              "      <td>99.4</td>\n",
              "      <td>2.633610</td>\n",
              "      <td>2.647536</td>\n",
              "      <td>2.668880</td>\n",
              "      <td>2.697562</td>\n",
              "      <td>2.734915</td>\n",
              "      <td>2.781379</td>\n",
              "      <td>2.834928</td>\n",
              "      <td>2.892813</td>\n",
              "      <td>2.952398</td>\n",
              "      <td>3.007006</td>\n",
              "      <td>3.056853</td>\n",
              "      <td>3.099692</td>\n",
              "      <td>3.134243</td>\n",
              "      <td>3.164441</td>\n",
              "      <td>3.191953</td>\n",
              "      <td>3.217235</td>\n",
              "      <td>3.241383</td>\n",
              "      <td>3.261519</td>\n",
              "      <td>3.278479</td>\n",
              "      <td>3.292704</td>\n",
              "      <td>3.306256</td>\n",
              "      <td>3.323255</td>\n",
              "      <td>3.345500</td>\n",
              "      <td>3.374447</td>\n",
              "      <td>3.409581</td>\n",
              "      <td>3.447255</td>\n",
              "      <td>3.485452</td>\n",
              "      <td>3.523418</td>\n",
              "      <td>3.557921</td>\n",
              "      <td>3.589867</td>\n",
              "      <td>3.620058</td>\n",
              "      <td>3.650058</td>\n",
              "      <td>3.685089</td>\n",
              "      <td>3.726815</td>\n",
              "      <td>3.776105</td>\n",
              "      <td>3.832724</td>\n",
              "      <td>3.888908</td>\n",
              "      <td>3.940112</td>\n",
              "      <td>3.981189</td>\n",
              "      <td>...</td>\n",
              "      <td>4.815051</td>\n",
              "      <td>4.786598</td>\n",
              "      <td>4.733112</td>\n",
              "      <td>4.698572</td>\n",
              "      <td>4.668392</td>\n",
              "      <td>4.626639</td>\n",
              "      <td>4.605268</td>\n",
              "      <td>4.573858</td>\n",
              "      <td>4.546319</td>\n",
              "      <td>4.513479</td>\n",
              "      <td>4.469913</td>\n",
              "      <td>4.434455</td>\n",
              "      <td>4.403273</td>\n",
              "      <td>4.374036</td>\n",
              "      <td>4.336699</td>\n",
              "      <td>4.301046</td>\n",
              "      <td>4.279192</td>\n",
              "      <td>4.249538</td>\n",
              "      <td>4.224226</td>\n",
              "      <td>4.195281</td>\n",
              "      <td>4.176410</td>\n",
              "      <td>4.152728</td>\n",
              "      <td>4.106633</td>\n",
              "      <td>4.087850</td>\n",
              "      <td>4.075754</td>\n",
              "      <td>4.070809</td>\n",
              "      <td>4.011888</td>\n",
              "      <td>4.004490</td>\n",
              "      <td>3.976988</td>\n",
              "      <td>3.956921</td>\n",
              "      <td>3.950059</td>\n",
              "      <td>3.931803</td>\n",
              "      <td>3.919032</td>\n",
              "      <td>3.898129</td>\n",
              "      <td>3.881474</td>\n",
              "      <td>3.859406</td>\n",
              "      <td>3.831476</td>\n",
              "      <td>3.886848</td>\n",
              "      <td>3.784373</td>\n",
              "      <td>3.770951</td>\n",
              "    </tr>\n",
              "    <tr>\n",
              "      <th>2</th>\n",
              "      <td>100.7</td>\n",
              "      <td>2.692640</td>\n",
              "      <td>2.706064</td>\n",
              "      <td>2.727004</td>\n",
              "      <td>2.755307</td>\n",
              "      <td>2.792278</td>\n",
              "      <td>2.838367</td>\n",
              "      <td>2.891539</td>\n",
              "      <td>2.949106</td>\n",
              "      <td>3.008404</td>\n",
              "      <td>3.062823</td>\n",
              "      <td>3.112538</td>\n",
              "      <td>3.155178</td>\n",
              "      <td>3.189505</td>\n",
              "      <td>3.219527</td>\n",
              "      <td>3.246873</td>\n",
              "      <td>3.271984</td>\n",
              "      <td>3.295966</td>\n",
              "      <td>3.316024</td>\n",
              "      <td>3.332766</td>\n",
              "      <td>3.346776</td>\n",
              "      <td>3.360115</td>\n",
              "      <td>3.376754</td>\n",
              "      <td>3.398721</td>\n",
              "      <td>3.427305</td>\n",
              "      <td>3.462317</td>\n",
              "      <td>3.499965</td>\n",
              "      <td>3.538244</td>\n",
              "      <td>3.576388</td>\n",
              "      <td>3.610835</td>\n",
              "      <td>3.642965</td>\n",
              "      <td>3.673183</td>\n",
              "      <td>3.703098</td>\n",
              "      <td>3.738111</td>\n",
              "      <td>3.779806</td>\n",
              "      <td>3.828885</td>\n",
              "      <td>3.885635</td>\n",
              "      <td>3.941922</td>\n",
              "      <td>3.993384</td>\n",
              "      <td>4.033990</td>\n",
              "      <td>...</td>\n",
              "      <td>4.871758</td>\n",
              "      <td>4.834007</td>\n",
              "      <td>4.794460</td>\n",
              "      <td>4.761220</td>\n",
              "      <td>4.733205</td>\n",
              "      <td>4.699128</td>\n",
              "      <td>4.661964</td>\n",
              "      <td>4.623547</td>\n",
              "      <td>4.593665</td>\n",
              "      <td>4.559308</td>\n",
              "      <td>4.530856</td>\n",
              "      <td>4.482330</td>\n",
              "      <td>4.456696</td>\n",
              "      <td>4.419022</td>\n",
              "      <td>4.389550</td>\n",
              "      <td>4.363956</td>\n",
              "      <td>4.325943</td>\n",
              "      <td>4.295106</td>\n",
              "      <td>4.285052</td>\n",
              "      <td>4.252646</td>\n",
              "      <td>4.231442</td>\n",
              "      <td>4.188935</td>\n",
              "      <td>4.167522</td>\n",
              "      <td>4.153700</td>\n",
              "      <td>4.122859</td>\n",
              "      <td>4.120073</td>\n",
              "      <td>4.059996</td>\n",
              "      <td>4.047554</td>\n",
              "      <td>4.023197</td>\n",
              "      <td>4.012508</td>\n",
              "      <td>3.972120</td>\n",
              "      <td>3.959794</td>\n",
              "      <td>3.954294</td>\n",
              "      <td>3.927944</td>\n",
              "      <td>3.898880</td>\n",
              "      <td>3.903797</td>\n",
              "      <td>3.872811</td>\n",
              "      <td>3.923675</td>\n",
              "      <td>3.811084</td>\n",
              "      <td>3.817034</td>\n",
              "    </tr>\n",
              "    <tr>\n",
              "      <th>3</th>\n",
              "      <td>100.0</td>\n",
              "      <td>2.712384</td>\n",
              "      <td>2.727113</td>\n",
              "      <td>2.749633</td>\n",
              "      <td>2.779871</td>\n",
              "      <td>2.819207</td>\n",
              "      <td>2.868122</td>\n",
              "      <td>2.924739</td>\n",
              "      <td>2.986115</td>\n",
              "      <td>3.049603</td>\n",
              "      <td>3.107929</td>\n",
              "      <td>3.161397</td>\n",
              "      <td>3.207536</td>\n",
              "      <td>3.244820</td>\n",
              "      <td>3.277422</td>\n",
              "      <td>3.307086</td>\n",
              "      <td>3.334371</td>\n",
              "      <td>3.360511</td>\n",
              "      <td>3.382473</td>\n",
              "      <td>3.400919</td>\n",
              "      <td>3.416304</td>\n",
              "      <td>3.430761</td>\n",
              "      <td>3.448775</td>\n",
              "      <td>3.472255</td>\n",
              "      <td>3.502698</td>\n",
              "      <td>3.540101</td>\n",
              "      <td>3.580708</td>\n",
              "      <td>3.621978</td>\n",
              "      <td>3.663327</td>\n",
              "      <td>3.700763</td>\n",
              "      <td>3.735476</td>\n",
              "      <td>3.768060</td>\n",
              "      <td>3.800081</td>\n",
              "      <td>3.837236</td>\n",
              "      <td>3.881423</td>\n",
              "      <td>3.933309</td>\n",
              "      <td>3.993458</td>\n",
              "      <td>4.053665</td>\n",
              "      <td>4.108565</td>\n",
              "      <td>4.152332</td>\n",
              "      <td>...</td>\n",
              "      <td>4.950016</td>\n",
              "      <td>4.910472</td>\n",
              "      <td>4.846022</td>\n",
              "      <td>4.829983</td>\n",
              "      <td>4.797855</td>\n",
              "      <td>4.764687</td>\n",
              "      <td>4.730912</td>\n",
              "      <td>4.692926</td>\n",
              "      <td>4.666827</td>\n",
              "      <td>4.632955</td>\n",
              "      <td>4.595406</td>\n",
              "      <td>4.560094</td>\n",
              "      <td>4.532080</td>\n",
              "      <td>4.494218</td>\n",
              "      <td>4.465956</td>\n",
              "      <td>4.438041</td>\n",
              "      <td>4.396047</td>\n",
              "      <td>4.369446</td>\n",
              "      <td>4.338877</td>\n",
              "      <td>4.326460</td>\n",
              "      <td>4.302887</td>\n",
              "      <td>4.265118</td>\n",
              "      <td>4.241528</td>\n",
              "      <td>4.218702</td>\n",
              "      <td>4.197325</td>\n",
              "      <td>4.198031</td>\n",
              "      <td>4.132119</td>\n",
              "      <td>4.119234</td>\n",
              "      <td>4.111952</td>\n",
              "      <td>4.093168</td>\n",
              "      <td>4.077374</td>\n",
              "      <td>4.071253</td>\n",
              "      <td>4.080235</td>\n",
              "      <td>4.048216</td>\n",
              "      <td>4.039794</td>\n",
              "      <td>4.020414</td>\n",
              "      <td>3.997269</td>\n",
              "      <td>4.122222</td>\n",
              "      <td>3.958862</td>\n",
              "      <td>3.963222</td>\n",
              "    </tr>\n",
              "    <tr>\n",
              "      <th>4</th>\n",
              "      <td>99.7</td>\n",
              "      <td>2.588002</td>\n",
              "      <td>2.597217</td>\n",
              "      <td>2.612367</td>\n",
              "      <td>2.633553</td>\n",
              "      <td>2.661625</td>\n",
              "      <td>2.698152</td>\n",
              "      <td>2.741386</td>\n",
              "      <td>2.789405</td>\n",
              "      <td>2.841268</td>\n",
              "      <td>2.890166</td>\n",
              "      <td>2.935327</td>\n",
              "      <td>2.974604</td>\n",
              "      <td>3.006563</td>\n",
              "      <td>3.033907</td>\n",
              "      <td>3.058305</td>\n",
              "      <td>3.080267</td>\n",
              "      <td>3.101422</td>\n",
              "      <td>3.119017</td>\n",
              "      <td>3.133604</td>\n",
              "      <td>3.145648</td>\n",
              "      <td>3.156844</td>\n",
              "      <td>3.170602</td>\n",
              "      <td>3.188781</td>\n",
              "      <td>3.212536</td>\n",
              "      <td>3.242287</td>\n",
              "      <td>3.275069</td>\n",
              "      <td>3.308845</td>\n",
              "      <td>3.342907</td>\n",
              "      <td>3.373782</td>\n",
              "      <td>3.402214</td>\n",
              "      <td>3.428855</td>\n",
              "      <td>3.454876</td>\n",
              "      <td>3.485248</td>\n",
              "      <td>3.521466</td>\n",
              "      <td>3.564656</td>\n",
              "      <td>3.614966</td>\n",
              "      <td>3.665638</td>\n",
              "      <td>3.712346</td>\n",
              "      <td>3.750209</td>\n",
              "      <td>...</td>\n",
              "      <td>4.922612</td>\n",
              "      <td>4.884944</td>\n",
              "      <td>4.839852</td>\n",
              "      <td>4.813469</td>\n",
              "      <td>4.752826</td>\n",
              "      <td>4.738914</td>\n",
              "      <td>4.715207</td>\n",
              "      <td>4.666349</td>\n",
              "      <td>4.640165</td>\n",
              "      <td>4.603614</td>\n",
              "      <td>4.558908</td>\n",
              "      <td>4.529105</td>\n",
              "      <td>4.506724</td>\n",
              "      <td>4.484522</td>\n",
              "      <td>4.446957</td>\n",
              "      <td>4.396574</td>\n",
              "      <td>4.369641</td>\n",
              "      <td>4.350126</td>\n",
              "      <td>4.312047</td>\n",
              "      <td>4.301819</td>\n",
              "      <td>4.269893</td>\n",
              "      <td>4.237147</td>\n",
              "      <td>4.219388</td>\n",
              "      <td>4.191328</td>\n",
              "      <td>4.169955</td>\n",
              "      <td>4.146274</td>\n",
              "      <td>4.105875</td>\n",
              "      <td>4.092352</td>\n",
              "      <td>4.071337</td>\n",
              "      <td>4.052164</td>\n",
              "      <td>4.028621</td>\n",
              "      <td>4.020946</td>\n",
              "      <td>4.013075</td>\n",
              "      <td>3.974624</td>\n",
              "      <td>3.958395</td>\n",
              "      <td>3.931957</td>\n",
              "      <td>3.914831</td>\n",
              "      <td>3.908645</td>\n",
              "      <td>3.875009</td>\n",
              "      <td>3.850762</td>\n",
              "    </tr>\n",
              "  </tbody>\n",
              "</table>\n",
              "<p>5 rows × 347 columns</p>\n",
              "</div>"
            ],
            "text/plain": [
              "   ContentUniformity      1110      1112  ...      1796      1798      1800\n",
              "0              100.1  2.659006  2.672815  ...  3.903085  3.792994  3.794084\n",
              "1               99.4  2.633610  2.647536  ...  3.886848  3.784373  3.770951\n",
              "2              100.7  2.692640  2.706064  ...  3.923675  3.811084  3.817034\n",
              "3              100.0  2.712384  2.727113  ...  4.122222  3.958862  3.963222\n",
              "4               99.7  2.588002  2.597217  ...  3.908645  3.875009  3.850762\n",
              "\n",
              "[5 rows x 347 columns]"
            ]
          },
          "metadata": {
            "tags": []
          },
          "execution_count": 49
        }
      ]
    },
    {
      "cell_type": "code",
      "metadata": {
        "colab": {
          "base_uri": "https://localhost:8080/",
          "height": 342
        },
        "id": "Z7DV4Eu_6KYD",
        "outputId": "62f8ee69-4df1-4b15-8e34-ffe6adf88da6"
      },
      "source": [
        "# Get the basic data statistics.\n",
        "df.describe()"
      ],
      "execution_count": 50,
      "outputs": [
        {
          "output_type": "execute_result",
          "data": {
            "text/html": [
              "<div>\n",
              "<style scoped>\n",
              "    .dataframe tbody tr th:only-of-type {\n",
              "        vertical-align: middle;\n",
              "    }\n",
              "\n",
              "    .dataframe tbody tr th {\n",
              "        vertical-align: top;\n",
              "    }\n",
              "\n",
              "    .dataframe thead th {\n",
              "        text-align: right;\n",
              "    }\n",
              "</style>\n",
              "<table border=\"1\" class=\"dataframe\">\n",
              "  <thead>\n",
              "    <tr style=\"text-align: right;\">\n",
              "      <th></th>\n",
              "      <th>ContentUniformity</th>\n",
              "      <th>1110</th>\n",
              "      <th>1112</th>\n",
              "      <th>1114</th>\n",
              "      <th>1116</th>\n",
              "      <th>1118</th>\n",
              "      <th>1120</th>\n",
              "      <th>1122</th>\n",
              "      <th>1124</th>\n",
              "      <th>1126</th>\n",
              "      <th>1128</th>\n",
              "      <th>1130</th>\n",
              "      <th>1132</th>\n",
              "      <th>1134</th>\n",
              "      <th>1136</th>\n",
              "      <th>1138</th>\n",
              "      <th>1140</th>\n",
              "      <th>1142</th>\n",
              "      <th>1144</th>\n",
              "      <th>1146</th>\n",
              "      <th>1148</th>\n",
              "      <th>1150</th>\n",
              "      <th>1152</th>\n",
              "      <th>1154</th>\n",
              "      <th>1156</th>\n",
              "      <th>1158</th>\n",
              "      <th>1160</th>\n",
              "      <th>1162</th>\n",
              "      <th>1164</th>\n",
              "      <th>1166</th>\n",
              "      <th>1168</th>\n",
              "      <th>1170</th>\n",
              "      <th>1172</th>\n",
              "      <th>1174</th>\n",
              "      <th>1176</th>\n",
              "      <th>1178</th>\n",
              "      <th>1180</th>\n",
              "      <th>1182</th>\n",
              "      <th>1184</th>\n",
              "      <th>1186</th>\n",
              "      <th>...</th>\n",
              "      <th>1722</th>\n",
              "      <th>1724</th>\n",
              "      <th>1726</th>\n",
              "      <th>1728</th>\n",
              "      <th>1730</th>\n",
              "      <th>1732</th>\n",
              "      <th>1734</th>\n",
              "      <th>1736</th>\n",
              "      <th>1738</th>\n",
              "      <th>1740</th>\n",
              "      <th>1742</th>\n",
              "      <th>1744</th>\n",
              "      <th>1746</th>\n",
              "      <th>1748</th>\n",
              "      <th>1750</th>\n",
              "      <th>1752</th>\n",
              "      <th>1754</th>\n",
              "      <th>1756</th>\n",
              "      <th>1758</th>\n",
              "      <th>1760</th>\n",
              "      <th>1762</th>\n",
              "      <th>1764</th>\n",
              "      <th>1766</th>\n",
              "      <th>1768</th>\n",
              "      <th>1770</th>\n",
              "      <th>1772</th>\n",
              "      <th>1774</th>\n",
              "      <th>1776</th>\n",
              "      <th>1778</th>\n",
              "      <th>1780</th>\n",
              "      <th>1782</th>\n",
              "      <th>1784</th>\n",
              "      <th>1786</th>\n",
              "      <th>1788</th>\n",
              "      <th>1790</th>\n",
              "      <th>1792</th>\n",
              "      <th>1794</th>\n",
              "      <th>1796</th>\n",
              "      <th>1798</th>\n",
              "      <th>1800</th>\n",
              "    </tr>\n",
              "  </thead>\n",
              "  <tbody>\n",
              "    <tr>\n",
              "      <th>count</th>\n",
              "      <td>175.000000</td>\n",
              "      <td>175.000000</td>\n",
              "      <td>175.000000</td>\n",
              "      <td>175.000000</td>\n",
              "      <td>175.000000</td>\n",
              "      <td>175.000000</td>\n",
              "      <td>175.000000</td>\n",
              "      <td>175.000000</td>\n",
              "      <td>175.000000</td>\n",
              "      <td>175.000000</td>\n",
              "      <td>175.000000</td>\n",
              "      <td>175.000000</td>\n",
              "      <td>175.000000</td>\n",
              "      <td>175.000000</td>\n",
              "      <td>175.000000</td>\n",
              "      <td>175.000000</td>\n",
              "      <td>175.000000</td>\n",
              "      <td>175.000000</td>\n",
              "      <td>175.000000</td>\n",
              "      <td>175.000000</td>\n",
              "      <td>175.000000</td>\n",
              "      <td>175.000000</td>\n",
              "      <td>175.000000</td>\n",
              "      <td>175.000000</td>\n",
              "      <td>175.000000</td>\n",
              "      <td>175.000000</td>\n",
              "      <td>175.000000</td>\n",
              "      <td>175.000000</td>\n",
              "      <td>175.000000</td>\n",
              "      <td>175.000000</td>\n",
              "      <td>175.000000</td>\n",
              "      <td>175.000000</td>\n",
              "      <td>175.000000</td>\n",
              "      <td>175.000000</td>\n",
              "      <td>175.000000</td>\n",
              "      <td>175.000000</td>\n",
              "      <td>175.000000</td>\n",
              "      <td>175.000000</td>\n",
              "      <td>175.000000</td>\n",
              "      <td>175.000000</td>\n",
              "      <td>...</td>\n",
              "      <td>175.000000</td>\n",
              "      <td>175.000000</td>\n",
              "      <td>175.000000</td>\n",
              "      <td>175.000000</td>\n",
              "      <td>175.000000</td>\n",
              "      <td>175.000000</td>\n",
              "      <td>175.000000</td>\n",
              "      <td>175.000000</td>\n",
              "      <td>175.000000</td>\n",
              "      <td>175.000000</td>\n",
              "      <td>175.000000</td>\n",
              "      <td>175.000000</td>\n",
              "      <td>175.000000</td>\n",
              "      <td>175.000000</td>\n",
              "      <td>175.000000</td>\n",
              "      <td>175.000000</td>\n",
              "      <td>175.000000</td>\n",
              "      <td>175.000000</td>\n",
              "      <td>175.000000</td>\n",
              "      <td>175.000000</td>\n",
              "      <td>175.000000</td>\n",
              "      <td>175.000000</td>\n",
              "      <td>175.000000</td>\n",
              "      <td>175.000000</td>\n",
              "      <td>175.000000</td>\n",
              "      <td>175.000000</td>\n",
              "      <td>175.000000</td>\n",
              "      <td>175.000000</td>\n",
              "      <td>175.000000</td>\n",
              "      <td>175.000000</td>\n",
              "      <td>175.000000</td>\n",
              "      <td>175.000000</td>\n",
              "      <td>175.000000</td>\n",
              "      <td>175.000000</td>\n",
              "      <td>175.000000</td>\n",
              "      <td>175.000000</td>\n",
              "      <td>175.000000</td>\n",
              "      <td>175.000000</td>\n",
              "      <td>175.000000</td>\n",
              "      <td>175.000000</td>\n",
              "    </tr>\n",
              "    <tr>\n",
              "      <th>mean</th>\n",
              "      <td>96.581714</td>\n",
              "      <td>2.716748</td>\n",
              "      <td>2.728888</td>\n",
              "      <td>2.748103</td>\n",
              "      <td>2.774431</td>\n",
              "      <td>2.808935</td>\n",
              "      <td>2.852225</td>\n",
              "      <td>2.902620</td>\n",
              "      <td>2.957320</td>\n",
              "      <td>3.014289</td>\n",
              "      <td>3.066998</td>\n",
              "      <td>3.115301</td>\n",
              "      <td>3.157184</td>\n",
              "      <td>3.191201</td>\n",
              "      <td>3.220901</td>\n",
              "      <td>3.248015</td>\n",
              "      <td>3.272811</td>\n",
              "      <td>3.296566</td>\n",
              "      <td>3.316481</td>\n",
              "      <td>3.333046</td>\n",
              "      <td>3.346905</td>\n",
              "      <td>3.359970</td>\n",
              "      <td>3.376265</td>\n",
              "      <td>3.397759</td>\n",
              "      <td>3.425776</td>\n",
              "      <td>3.460256</td>\n",
              "      <td>3.497860</td>\n",
              "      <td>3.536190</td>\n",
              "      <td>3.574619</td>\n",
              "      <td>3.609500</td>\n",
              "      <td>3.641652</td>\n",
              "      <td>3.671879</td>\n",
              "      <td>3.701497</td>\n",
              "      <td>3.736054</td>\n",
              "      <td>3.777346</td>\n",
              "      <td>3.826058</td>\n",
              "      <td>3.882236</td>\n",
              "      <td>3.938397</td>\n",
              "      <td>3.989613</td>\n",
              "      <td>4.030294</td>\n",
              "      <td>...</td>\n",
              "      <td>4.929083</td>\n",
              "      <td>4.888836</td>\n",
              "      <td>4.851050</td>\n",
              "      <td>4.814882</td>\n",
              "      <td>4.778517</td>\n",
              "      <td>4.748307</td>\n",
              "      <td>4.713317</td>\n",
              "      <td>4.682185</td>\n",
              "      <td>4.649298</td>\n",
              "      <td>4.615915</td>\n",
              "      <td>4.583791</td>\n",
              "      <td>4.547795</td>\n",
              "      <td>4.515270</td>\n",
              "      <td>4.480678</td>\n",
              "      <td>4.446025</td>\n",
              "      <td>4.416651</td>\n",
              "      <td>4.381935</td>\n",
              "      <td>4.353161</td>\n",
              "      <td>4.325372</td>\n",
              "      <td>4.314665</td>\n",
              "      <td>4.291025</td>\n",
              "      <td>4.253710</td>\n",
              "      <td>4.228970</td>\n",
              "      <td>4.203859</td>\n",
              "      <td>4.180729</td>\n",
              "      <td>4.193959</td>\n",
              "      <td>4.123004</td>\n",
              "      <td>4.107507</td>\n",
              "      <td>4.091521</td>\n",
              "      <td>4.075966</td>\n",
              "      <td>4.058855</td>\n",
              "      <td>4.055306</td>\n",
              "      <td>4.048578</td>\n",
              "      <td>4.018976</td>\n",
              "      <td>3.997192</td>\n",
              "      <td>3.974348</td>\n",
              "      <td>3.956829</td>\n",
              "      <td>4.024427</td>\n",
              "      <td>3.907187</td>\n",
              "      <td>3.894206</td>\n",
              "    </tr>\n",
              "    <tr>\n",
              "      <th>std</th>\n",
              "      <td>10.555557</td>\n",
              "      <td>0.129600</td>\n",
              "      <td>0.131716</td>\n",
              "      <td>0.134894</td>\n",
              "      <td>0.139179</td>\n",
              "      <td>0.144727</td>\n",
              "      <td>0.151635</td>\n",
              "      <td>0.159752</td>\n",
              "      <td>0.168723</td>\n",
              "      <td>0.177946</td>\n",
              "      <td>0.186220</td>\n",
              "      <td>0.193577</td>\n",
              "      <td>0.199528</td>\n",
              "      <td>0.203746</td>\n",
              "      <td>0.206555</td>\n",
              "      <td>0.208440</td>\n",
              "      <td>0.209693</td>\n",
              "      <td>0.210591</td>\n",
              "      <td>0.210984</td>\n",
              "      <td>0.210989</td>\n",
              "      <td>0.210776</td>\n",
              "      <td>0.210697</td>\n",
              "      <td>0.210980</td>\n",
              "      <td>0.211590</td>\n",
              "      <td>0.212425</td>\n",
              "      <td>0.213224</td>\n",
              "      <td>0.213650</td>\n",
              "      <td>0.213749</td>\n",
              "      <td>0.213680</td>\n",
              "      <td>0.213679</td>\n",
              "      <td>0.213851</td>\n",
              "      <td>0.214253</td>\n",
              "      <td>0.214862</td>\n",
              "      <td>0.215767</td>\n",
              "      <td>0.216935</td>\n",
              "      <td>0.218476</td>\n",
              "      <td>0.220377</td>\n",
              "      <td>0.222561</td>\n",
              "      <td>0.224598</td>\n",
              "      <td>0.226269</td>\n",
              "      <td>...</td>\n",
              "      <td>0.137202</td>\n",
              "      <td>0.136493</td>\n",
              "      <td>0.136150</td>\n",
              "      <td>0.137627</td>\n",
              "      <td>0.136596</td>\n",
              "      <td>0.138345</td>\n",
              "      <td>0.138509</td>\n",
              "      <td>0.139071</td>\n",
              "      <td>0.137944</td>\n",
              "      <td>0.140463</td>\n",
              "      <td>0.139346</td>\n",
              "      <td>0.139837</td>\n",
              "      <td>0.140123</td>\n",
              "      <td>0.140251</td>\n",
              "      <td>0.139898</td>\n",
              "      <td>0.139517</td>\n",
              "      <td>0.140005</td>\n",
              "      <td>0.139633</td>\n",
              "      <td>0.139430</td>\n",
              "      <td>0.146869</td>\n",
              "      <td>0.146338</td>\n",
              "      <td>0.141905</td>\n",
              "      <td>0.141530</td>\n",
              "      <td>0.140276</td>\n",
              "      <td>0.140920</td>\n",
              "      <td>0.159805</td>\n",
              "      <td>0.134522</td>\n",
              "      <td>0.136326</td>\n",
              "      <td>0.138700</td>\n",
              "      <td>0.139600</td>\n",
              "      <td>0.140951</td>\n",
              "      <td>0.150138</td>\n",
              "      <td>0.156050</td>\n",
              "      <td>0.151680</td>\n",
              "      <td>0.150404</td>\n",
              "      <td>0.151875</td>\n",
              "      <td>0.152583</td>\n",
              "      <td>0.208405</td>\n",
              "      <td>0.147484</td>\n",
              "      <td>0.153462</td>\n",
              "    </tr>\n",
              "    <tr>\n",
              "      <th>min</th>\n",
              "      <td>75.800000</td>\n",
              "      <td>2.382242</td>\n",
              "      <td>2.396399</td>\n",
              "      <td>2.417094</td>\n",
              "      <td>2.444450</td>\n",
              "      <td>2.480204</td>\n",
              "      <td>2.525566</td>\n",
              "      <td>2.578469</td>\n",
              "      <td>2.636618</td>\n",
              "      <td>2.698409</td>\n",
              "      <td>2.756311</td>\n",
              "      <td>2.799203</td>\n",
              "      <td>2.833770</td>\n",
              "      <td>2.863369</td>\n",
              "      <td>2.890615</td>\n",
              "      <td>2.916393</td>\n",
              "      <td>2.940759</td>\n",
              "      <td>2.964855</td>\n",
              "      <td>2.986049</td>\n",
              "      <td>3.004361</td>\n",
              "      <td>3.020046</td>\n",
              "      <td>3.034350</td>\n",
              "      <td>3.050920</td>\n",
              "      <td>3.071760</td>\n",
              "      <td>3.098611</td>\n",
              "      <td>3.132569</td>\n",
              "      <td>3.171354</td>\n",
              "      <td>3.212312</td>\n",
              "      <td>3.254444</td>\n",
              "      <td>3.293049</td>\n",
              "      <td>3.328251</td>\n",
              "      <td>3.360557</td>\n",
              "      <td>3.391110</td>\n",
              "      <td>3.425733</td>\n",
              "      <td>3.466418</td>\n",
              "      <td>3.513982</td>\n",
              "      <td>3.569153</td>\n",
              "      <td>3.624917</td>\n",
              "      <td>3.675250</td>\n",
              "      <td>3.714061</td>\n",
              "      <td>...</td>\n",
              "      <td>4.647443</td>\n",
              "      <td>4.597050</td>\n",
              "      <td>4.560087</td>\n",
              "      <td>4.520518</td>\n",
              "      <td>4.482520</td>\n",
              "      <td>4.451172</td>\n",
              "      <td>4.418088</td>\n",
              "      <td>4.387128</td>\n",
              "      <td>4.357888</td>\n",
              "      <td>4.315870</td>\n",
              "      <td>4.284957</td>\n",
              "      <td>4.249103</td>\n",
              "      <td>4.221035</td>\n",
              "      <td>4.191500</td>\n",
              "      <td>4.159047</td>\n",
              "      <td>4.125172</td>\n",
              "      <td>4.090089</td>\n",
              "      <td>4.062996</td>\n",
              "      <td>4.036308</td>\n",
              "      <td>4.016136</td>\n",
              "      <td>3.990176</td>\n",
              "      <td>3.962498</td>\n",
              "      <td>3.937839</td>\n",
              "      <td>3.929346</td>\n",
              "      <td>3.913393</td>\n",
              "      <td>3.905562</td>\n",
              "      <td>3.865809</td>\n",
              "      <td>3.845413</td>\n",
              "      <td>3.838781</td>\n",
              "      <td>3.845514</td>\n",
              "      <td>3.829676</td>\n",
              "      <td>3.846100</td>\n",
              "      <td>3.827041</td>\n",
              "      <td>3.842474</td>\n",
              "      <td>3.824500</td>\n",
              "      <td>3.800972</td>\n",
              "      <td>3.780052</td>\n",
              "      <td>3.807402</td>\n",
              "      <td>3.742480</td>\n",
              "      <td>3.722910</td>\n",
              "    </tr>\n",
              "    <tr>\n",
              "      <th>25%</th>\n",
              "      <td>88.550000</td>\n",
              "      <td>2.629639</td>\n",
              "      <td>2.638282</td>\n",
              "      <td>2.656993</td>\n",
              "      <td>2.684878</td>\n",
              "      <td>2.720639</td>\n",
              "      <td>2.764861</td>\n",
              "      <td>2.813512</td>\n",
              "      <td>2.861373</td>\n",
              "      <td>2.909880</td>\n",
              "      <td>2.954254</td>\n",
              "      <td>2.998495</td>\n",
              "      <td>3.036110</td>\n",
              "      <td>3.066020</td>\n",
              "      <td>3.094345</td>\n",
              "      <td>3.120406</td>\n",
              "      <td>3.144735</td>\n",
              "      <td>3.168135</td>\n",
              "      <td>3.187887</td>\n",
              "      <td>3.204449</td>\n",
              "      <td>3.218576</td>\n",
              "      <td>3.231960</td>\n",
              "      <td>3.248712</td>\n",
              "      <td>3.270992</td>\n",
              "      <td>3.299419</td>\n",
              "      <td>3.334199</td>\n",
              "      <td>3.373146</td>\n",
              "      <td>3.411350</td>\n",
              "      <td>3.448592</td>\n",
              "      <td>3.483109</td>\n",
              "      <td>3.514625</td>\n",
              "      <td>3.544112</td>\n",
              "      <td>3.572359</td>\n",
              "      <td>3.604687</td>\n",
              "      <td>3.643712</td>\n",
              "      <td>3.690383</td>\n",
              "      <td>3.746722</td>\n",
              "      <td>3.802389</td>\n",
              "      <td>3.851911</td>\n",
              "      <td>3.890757</td>\n",
              "      <td>...</td>\n",
              "      <td>4.839175</td>\n",
              "      <td>4.801704</td>\n",
              "      <td>4.759184</td>\n",
              "      <td>4.719876</td>\n",
              "      <td>4.682517</td>\n",
              "      <td>4.654115</td>\n",
              "      <td>4.618737</td>\n",
              "      <td>4.584364</td>\n",
              "      <td>4.554365</td>\n",
              "      <td>4.519018</td>\n",
              "      <td>4.490628</td>\n",
              "      <td>4.454665</td>\n",
              "      <td>4.422904</td>\n",
              "      <td>4.385948</td>\n",
              "      <td>4.350358</td>\n",
              "      <td>4.322917</td>\n",
              "      <td>4.288194</td>\n",
              "      <td>4.256969</td>\n",
              "      <td>4.232798</td>\n",
              "      <td>4.216104</td>\n",
              "      <td>4.195722</td>\n",
              "      <td>4.156915</td>\n",
              "      <td>4.134870</td>\n",
              "      <td>4.108549</td>\n",
              "      <td>4.088732</td>\n",
              "      <td>4.093186</td>\n",
              "      <td>4.033121</td>\n",
              "      <td>4.018900</td>\n",
              "      <td>4.003702</td>\n",
              "      <td>3.983691</td>\n",
              "      <td>3.964695</td>\n",
              "      <td>3.955566</td>\n",
              "      <td>3.943169</td>\n",
              "      <td>3.914877</td>\n",
              "      <td>3.892291</td>\n",
              "      <td>3.867455</td>\n",
              "      <td>3.847822</td>\n",
              "      <td>3.882077</td>\n",
              "      <td>3.799410</td>\n",
              "      <td>3.775791</td>\n",
              "    </tr>\n",
              "    <tr>\n",
              "      <th>50%</th>\n",
              "      <td>97.100000</td>\n",
              "      <td>2.694534</td>\n",
              "      <td>2.705207</td>\n",
              "      <td>2.724854</td>\n",
              "      <td>2.751482</td>\n",
              "      <td>2.784807</td>\n",
              "      <td>2.828085</td>\n",
              "      <td>2.871365</td>\n",
              "      <td>2.927274</td>\n",
              "      <td>2.981253</td>\n",
              "      <td>3.035389</td>\n",
              "      <td>3.081470</td>\n",
              "      <td>3.120820</td>\n",
              "      <td>3.152766</td>\n",
              "      <td>3.179978</td>\n",
              "      <td>3.205160</td>\n",
              "      <td>3.228264</td>\n",
              "      <td>3.252438</td>\n",
              "      <td>3.272572</td>\n",
              "      <td>3.286926</td>\n",
              "      <td>3.299009</td>\n",
              "      <td>3.311849</td>\n",
              "      <td>3.327864</td>\n",
              "      <td>3.349208</td>\n",
              "      <td>3.377379</td>\n",
              "      <td>3.412105</td>\n",
              "      <td>3.450285</td>\n",
              "      <td>3.487372</td>\n",
              "      <td>3.528171</td>\n",
              "      <td>3.562726</td>\n",
              "      <td>3.593703</td>\n",
              "      <td>3.624046</td>\n",
              "      <td>3.654805</td>\n",
              "      <td>3.688432</td>\n",
              "      <td>3.728678</td>\n",
              "      <td>3.776185</td>\n",
              "      <td>3.832703</td>\n",
              "      <td>3.889786</td>\n",
              "      <td>3.942355</td>\n",
              "      <td>3.982332</td>\n",
              "      <td>...</td>\n",
              "      <td>4.897671</td>\n",
              "      <td>4.862247</td>\n",
              "      <td>4.822164</td>\n",
              "      <td>4.783619</td>\n",
              "      <td>4.747929</td>\n",
              "      <td>4.715831</td>\n",
              "      <td>4.679785</td>\n",
              "      <td>4.649876</td>\n",
              "      <td>4.619503</td>\n",
              "      <td>4.582655</td>\n",
              "      <td>4.554510</td>\n",
              "      <td>4.516318</td>\n",
              "      <td>4.484752</td>\n",
              "      <td>4.445206</td>\n",
              "      <td>4.412261</td>\n",
              "      <td>4.377393</td>\n",
              "      <td>4.348868</td>\n",
              "      <td>4.319407</td>\n",
              "      <td>4.293913</td>\n",
              "      <td>4.271662</td>\n",
              "      <td>4.250354</td>\n",
              "      <td>4.215843</td>\n",
              "      <td>4.188334</td>\n",
              "      <td>4.164255</td>\n",
              "      <td>4.143249</td>\n",
              "      <td>4.139778</td>\n",
              "      <td>4.084416</td>\n",
              "      <td>4.066845</td>\n",
              "      <td>4.046615</td>\n",
              "      <td>4.032914</td>\n",
              "      <td>4.015586</td>\n",
              "      <td>3.999936</td>\n",
              "      <td>3.989891</td>\n",
              "      <td>3.966678</td>\n",
              "      <td>3.940200</td>\n",
              "      <td>3.918094</td>\n",
              "      <td>3.902710</td>\n",
              "      <td>3.931971</td>\n",
              "      <td>3.856344</td>\n",
              "      <td>3.837391</td>\n",
              "    </tr>\n",
              "    <tr>\n",
              "      <th>75%</th>\n",
              "      <td>103.250000</td>\n",
              "      <td>2.780883</td>\n",
              "      <td>2.790977</td>\n",
              "      <td>2.808836</td>\n",
              "      <td>2.830333</td>\n",
              "      <td>2.864158</td>\n",
              "      <td>2.910478</td>\n",
              "      <td>2.956275</td>\n",
              "      <td>3.010455</td>\n",
              "      <td>3.067719</td>\n",
              "      <td>3.119133</td>\n",
              "      <td>3.170446</td>\n",
              "      <td>3.213329</td>\n",
              "      <td>3.247797</td>\n",
              "      <td>3.279036</td>\n",
              "      <td>3.307188</td>\n",
              "      <td>3.332788</td>\n",
              "      <td>3.356062</td>\n",
              "      <td>3.373810</td>\n",
              "      <td>3.388067</td>\n",
              "      <td>3.399665</td>\n",
              "      <td>3.410813</td>\n",
              "      <td>3.426049</td>\n",
              "      <td>3.448032</td>\n",
              "      <td>3.476270</td>\n",
              "      <td>3.510796</td>\n",
              "      <td>3.550585</td>\n",
              "      <td>3.591140</td>\n",
              "      <td>3.631652</td>\n",
              "      <td>3.667329</td>\n",
              "      <td>3.701047</td>\n",
              "      <td>3.732744</td>\n",
              "      <td>3.760668</td>\n",
              "      <td>3.793377</td>\n",
              "      <td>3.834109</td>\n",
              "      <td>3.882212</td>\n",
              "      <td>3.936599</td>\n",
              "      <td>3.992056</td>\n",
              "      <td>4.041207</td>\n",
              "      <td>4.081401</td>\n",
              "      <td>...</td>\n",
              "      <td>4.987455</td>\n",
              "      <td>4.949379</td>\n",
              "      <td>4.912818</td>\n",
              "      <td>4.878398</td>\n",
              "      <td>4.839410</td>\n",
              "      <td>4.810270</td>\n",
              "      <td>4.775391</td>\n",
              "      <td>4.745144</td>\n",
              "      <td>4.709772</td>\n",
              "      <td>4.676101</td>\n",
              "      <td>4.640486</td>\n",
              "      <td>4.605156</td>\n",
              "      <td>4.576428</td>\n",
              "      <td>4.536809</td>\n",
              "      <td>4.503063</td>\n",
              "      <td>4.477463</td>\n",
              "      <td>4.442030</td>\n",
              "      <td>4.411335</td>\n",
              "      <td>4.382230</td>\n",
              "      <td>4.370356</td>\n",
              "      <td>4.352414</td>\n",
              "      <td>4.313260</td>\n",
              "      <td>4.286474</td>\n",
              "      <td>4.255674</td>\n",
              "      <td>4.237782</td>\n",
              "      <td>4.253955</td>\n",
              "      <td>4.172983</td>\n",
              "      <td>4.156452</td>\n",
              "      <td>4.136164</td>\n",
              "      <td>4.118827</td>\n",
              "      <td>4.103858</td>\n",
              "      <td>4.111039</td>\n",
              "      <td>4.112847</td>\n",
              "      <td>4.075863</td>\n",
              "      <td>4.054775</td>\n",
              "      <td>4.036348</td>\n",
              "      <td>4.018624</td>\n",
              "      <td>4.138309</td>\n",
              "      <td>3.971637</td>\n",
              "      <td>3.969246</td>\n",
              "    </tr>\n",
              "    <tr>\n",
              "      <th>max</th>\n",
              "      <td>119.600000</td>\n",
              "      <td>3.189837</td>\n",
              "      <td>3.213368</td>\n",
              "      <td>3.247746</td>\n",
              "      <td>3.293143</td>\n",
              "      <td>3.351016</td>\n",
              "      <td>3.423117</td>\n",
              "      <td>3.506964</td>\n",
              "      <td>3.598475</td>\n",
              "      <td>3.694123</td>\n",
              "      <td>3.781774</td>\n",
              "      <td>3.861994</td>\n",
              "      <td>3.931202</td>\n",
              "      <td>3.984882</td>\n",
              "      <td>4.027024</td>\n",
              "      <td>4.062236</td>\n",
              "      <td>4.092052</td>\n",
              "      <td>4.119302</td>\n",
              "      <td>4.140958</td>\n",
              "      <td>4.157498</td>\n",
              "      <td>4.170511</td>\n",
              "      <td>4.183284</td>\n",
              "      <td>4.200397</td>\n",
              "      <td>4.223485</td>\n",
              "      <td>4.253788</td>\n",
              "      <td>4.290247</td>\n",
              "      <td>4.327987</td>\n",
              "      <td>4.364953</td>\n",
              "      <td>4.401244</td>\n",
              "      <td>4.434067</td>\n",
              "      <td>4.465038</td>\n",
              "      <td>4.495077</td>\n",
              "      <td>4.524924</td>\n",
              "      <td>4.560213</td>\n",
              "      <td>4.603191</td>\n",
              "      <td>4.654355</td>\n",
              "      <td>4.713290</td>\n",
              "      <td>4.773243</td>\n",
              "      <td>4.828427</td>\n",
              "      <td>4.872491</td>\n",
              "      <td>...</td>\n",
              "      <td>5.409407</td>\n",
              "      <td>5.379335</td>\n",
              "      <td>5.322353</td>\n",
              "      <td>5.332864</td>\n",
              "      <td>5.277515</td>\n",
              "      <td>5.245227</td>\n",
              "      <td>5.213172</td>\n",
              "      <td>5.187128</td>\n",
              "      <td>5.149735</td>\n",
              "      <td>5.128784</td>\n",
              "      <td>5.087061</td>\n",
              "      <td>5.067419</td>\n",
              "      <td>5.016667</td>\n",
              "      <td>5.002835</td>\n",
              "      <td>4.956201</td>\n",
              "      <td>4.927693</td>\n",
              "      <td>4.900662</td>\n",
              "      <td>4.856309</td>\n",
              "      <td>4.815017</td>\n",
              "      <td>4.847170</td>\n",
              "      <td>4.817008</td>\n",
              "      <td>4.758055</td>\n",
              "      <td>4.714906</td>\n",
              "      <td>4.690766</td>\n",
              "      <td>4.671202</td>\n",
              "      <td>4.777278</td>\n",
              "      <td>4.599141</td>\n",
              "      <td>4.564837</td>\n",
              "      <td>4.588760</td>\n",
              "      <td>4.581779</td>\n",
              "      <td>4.554890</td>\n",
              "      <td>4.571847</td>\n",
              "      <td>4.567794</td>\n",
              "      <td>4.551713</td>\n",
              "      <td>4.496573</td>\n",
              "      <td>4.500304</td>\n",
              "      <td>4.480038</td>\n",
              "      <td>4.934037</td>\n",
              "      <td>4.390290</td>\n",
              "      <td>4.396204</td>\n",
              "    </tr>\n",
              "  </tbody>\n",
              "</table>\n",
              "<p>8 rows × 347 columns</p>\n",
              "</div>"
            ],
            "text/plain": [
              "       ContentUniformity        1110  ...        1798        1800\n",
              "count         175.000000  175.000000  ...  175.000000  175.000000\n",
              "mean           96.581714    2.716748  ...    3.907187    3.894206\n",
              "std            10.555557    0.129600  ...    0.147484    0.153462\n",
              "min            75.800000    2.382242  ...    3.742480    3.722910\n",
              "25%            88.550000    2.629639  ...    3.799410    3.775791\n",
              "50%            97.100000    2.694534  ...    3.856344    3.837391\n",
              "75%           103.250000    2.780883  ...    3.971637    3.969246\n",
              "max           119.600000    3.189837  ...    4.390290    4.396204\n",
              "\n",
              "[8 rows x 347 columns]"
            ]
          },
          "metadata": {
            "tags": []
          },
          "execution_count": 50
        }
      ]
    },
    {
      "cell_type": "code",
      "metadata": {
        "colab": {
          "base_uri": "https://localhost:8080/"
        },
        "id": "7-M6xvOd8vBq",
        "outputId": "9cd5d358-8a0d-43ea-b529-cbf986b0deaa"
      },
      "source": [
        "df.shape"
      ],
      "execution_count": 51,
      "outputs": [
        {
          "output_type": "execute_result",
          "data": {
            "text/plain": [
              "(175, 347)"
            ]
          },
          "metadata": {
            "tags": []
          },
          "execution_count": 51
        }
      ]
    },
    {
      "cell_type": "code",
      "metadata": {
        "colab": {
          "base_uri": "https://localhost:8080/"
        },
        "id": "6ratem25CoGV",
        "outputId": "4fa02d1f-20e0-4a66-e7b8-3628c9ae17ab"
      },
      "source": [
        "# Get the info of the dataset at hand\n",
        "df.info()"
      ],
      "execution_count": 52,
      "outputs": [
        {
          "output_type": "stream",
          "text": [
            "<class 'pandas.core.frame.DataFrame'>\n",
            "RangeIndex: 175 entries, 0 to 174\n",
            "Columns: 347 entries, ContentUniformity to 1800\n",
            "dtypes: float64(347)\n",
            "memory usage: 474.5 KB\n"
          ],
          "name": "stdout"
        }
      ]
    },
    {
      "cell_type": "code",
      "metadata": {
        "colab": {
          "base_uri": "https://localhost:8080/"
        },
        "id": "oTefHvWTCza1",
        "outputId": "95cffbc7-da48-4b3a-8e60-7dbf6c24f5bf"
      },
      "source": [
        "# Check if we need to handle Null Values\n",
        "df.isnull().sum().sum()"
      ],
      "execution_count": 53,
      "outputs": [
        {
          "output_type": "execute_result",
          "data": {
            "text/plain": [
              "0"
            ]
          },
          "metadata": {
            "tags": []
          },
          "execution_count": 53
        }
      ]
    },
    {
      "cell_type": "code",
      "metadata": {
        "colab": {
          "base_uri": "https://localhost:8080/"
        },
        "id": "R5VLxDK3CED_",
        "outputId": "6651f82d-529c-40e0-9e0b-8817a51cc232"
      },
      "source": [
        "# Check Duplicated Rows\n",
        "df.duplicated().sum()"
      ],
      "execution_count": 54,
      "outputs": [
        {
          "output_type": "execute_result",
          "data": {
            "text/plain": [
              "0"
            ]
          },
          "metadata": {
            "tags": []
          },
          "execution_count": 54
        }
      ]
    },
    {
      "cell_type": "code",
      "metadata": {
        "colab": {
          "base_uri": "https://localhost:8080/"
        },
        "id": "EvGVRwen6RxF",
        "outputId": "26045cc6-ded8-4a44-9d00-19043c31bb6c"
      },
      "source": [
        "# Check for Data Types\n",
        "df.dtypes.value_counts()"
      ],
      "execution_count": 55,
      "outputs": [
        {
          "output_type": "execute_result",
          "data": {
            "text/plain": [
              "float64    347\n",
              "dtype: int64"
            ]
          },
          "metadata": {
            "tags": []
          },
          "execution_count": 55
        }
      ]
    },
    {
      "cell_type": "code",
      "metadata": {
        "id": "Hf-WWCVO-gSY"
      },
      "source": [
        "# Make a list of Means\n",
        "means = list(df.loc[:,'1110':].mean())"
      ],
      "execution_count": 56,
      "outputs": []
    },
    {
      "cell_type": "code",
      "metadata": {
        "colab": {
          "base_uri": "https://localhost:8080/",
          "height": 314
        },
        "id": "lcgfeIn_76Wg",
        "outputId": "b9a83b22-3015-47bd-df97-717413b4991c"
      },
      "source": [
        "# Check and Plot the mean of each column\n",
        "\n",
        "Q1 = np.percentile(means, 25, interpolation = 'midpoint')\n",
        "Q3 = np.percentile(means, 75, interpolation = 'midpoint')\n",
        "# Interquaritle range (IQR)\n",
        "IQR = Q3 - Q1\n",
        "bin_width = (2*(IQR)/(len(means)**(1/3)))\n",
        "bins = round((max(means) - min(means))/bin_width)\n",
        "# This method is taken from \n",
        "#https://stats.stackexchange.com/questions/143438/optimal-number-of-bins-in-histogram-by-the-freedman-diaconis-rule-difference-be\n",
        "print(\"Freedman–Diaconis number of bins:\", bins)\n",
        "plt.hist(means, bins = bins);\n",
        "plt.xlabel('Spectral Range')\n",
        "plt.ylabel('Mean Value')"
      ],
      "execution_count": 57,
      "outputs": [
        {
          "output_type": "stream",
          "text": [
            "Freedman–Diaconis number of bins: 13\n"
          ],
          "name": "stdout"
        },
        {
          "output_type": "execute_result",
          "data": {
            "text/plain": [
              "Text(0, 0.5, 'Mean Value')"
            ]
          },
          "metadata": {
            "tags": []
          },
          "execution_count": 57
        },
        {
          "output_type": "display_data",
          "data": {
            "image/png": "[encoded data removed]",
            "text/plain": [
              "<Figure size 432x288 with 1 Axes>"
            ]
          },
          "metadata": {
            "tags": [],
            "needs_background": "light"
          }
        }
      ]
    },
    {
      "cell_type": "code",
      "metadata": {
        "colab": {
          "base_uri": "https://localhost:8080/"
        },
        "id": "HMwzbel08EUC",
        "outputId": "66bcf7fb-071a-474e-ac98-8192fcf53e0a"
      },
      "source": [
        "# List out the Top 20 Correlated Features with the Target\n",
        "c = df.corr().abs()\n",
        "\n",
        "s = c.unstack()\n",
        "so = s.sort_values(kind=\"quicksort\")\n",
        "\n",
        "print (so[-367:-347])\n",
        "# we can see from the output that we have multi-colinearity in the dataset"
      ],
      "execution_count": 58,
      "outputs": [
        {
          "output_type": "stream",
          "text": [
            "1312  1314    0.999997\n",
            "1314  1312    0.999997\n",
            "1310  1308    0.999997\n",
            "1308  1310    0.999997\n",
            "1472  1470    0.999997\n",
            "1470  1472    0.999997\n",
            "1312  1310    0.999998\n",
            "1310  1312    0.999998\n",
            "1480  1478    0.999998\n",
            "1478  1480    0.999998\n",
            "      1476    0.999998\n",
            "1476  1478    0.999998\n",
            "1454  1452    0.999998\n",
            "1452  1454    0.999998\n",
            "1474  1476    0.999998\n",
            "1476  1474    0.999998\n",
            "1474  1472    0.999998\n",
            "1472  1474    0.999998\n",
            "1450  1452    0.999999\n",
            "1452  1450    0.999999\n",
            "dtype: float64\n"
          ],
          "name": "stdout"
        }
      ]
    },
    {
      "cell_type": "code",
      "metadata": {
        "colab": {
          "base_uri": "https://localhost:8080/"
        },
        "id": "POcYKF1Z97Eh",
        "outputId": "2269c574-ad56-4e3e-cbe9-e13e7f2aca5d"
      },
      "source": [
        "# Remove Multi-Colinearity\n",
        "def correlation(dataset, threshold):\n",
        "    col_corr = set() # Set of all the names of deleted columns\n",
        "    corr_matrix = dataset.corr()\n",
        "    for i in range(len(corr_matrix.columns)):\n",
        "        for j in range(i):\n",
        "            if (((corr_matrix.iloc[i, j] >= threshold) or \n",
        "                 (corr_matrix.iloc[i,j]<=-threshold)) and \n",
        "                (corr_matrix.columns[j] not in col_corr)):\n",
        "                colname = corr_matrix.columns[i] # getting the name of column\n",
        "                col_corr.add(colname)\n",
        "                if colname in dataset.columns:\n",
        "                    del dataset[colname] # deleting the column from the dataset\n",
        "            \n",
        "\n",
        "    print(dataset)\n",
        "    return(dataset)\n",
        "\n",
        "filtered_df = correlation(df,0.9999) # TBD - Experiment with the data"
      ],
      "execution_count": 59,
      "outputs": [
        {
          "output_type": "stream",
          "text": [
            "     ContentUniformity      1110      1112  ...      1796      1798      1800\n",
            "0                100.1  2.659006  2.672815  ...  3.903085  3.792994  3.794084\n",
            "1                 99.4  2.633610  2.647536  ...  3.886848  3.784373  3.770951\n",
            "2                100.7  2.692640  2.706064  ...  3.923675  3.811084  3.817034\n",
            "3                100.0  2.712384  2.727113  ...  4.122222  3.958862  3.963222\n",
            "4                 99.7  2.588002  2.597217  ...  3.908645  3.875009  3.850762\n",
            "..                 ...       ...       ...  ...       ...       ...       ...\n",
            "170               97.8  2.903835  2.922184  ...  4.345699  4.214854  4.181906\n",
            "171               96.4  2.625422  2.638023  ...  3.843260  3.777243  3.753384\n",
            "172               97.0  2.694591  2.706141  ...  3.932312  3.806685  3.794307\n",
            "173               97.9  2.644989  2.658219  ...  3.851602  3.773104  3.756400\n",
            "174               97.7  2.674914  2.690179  ...  3.890528  3.791181  3.781098\n",
            "\n",
            "[175 rows x 213 columns]\n"
          ],
          "name": "stdout"
        }
      ]
    },
    {
      "cell_type": "code",
      "metadata": {
        "colab": {
          "base_uri": "https://localhost:8080/"
        },
        "id": "aFA0w5Nk-gIW",
        "outputId": "c7fd1764-44a9-4abc-c149-169a04eefef2"
      },
      "source": [
        "cor = filtered_df.corr()\n",
        "#Correlation with output variable\n",
        "cor_target = abs(cor[\"ContentUniformity\"])\n",
        "#Selecting highly correlated features\n",
        "relevant_features = cor_target[cor_target>0.5]\n",
        "relevant_features"
      ],
      "execution_count": 60,
      "outputs": [
        {
          "output_type": "execute_result",
          "data": {
            "text/plain": [
              "ContentUniformity    1.000000\n",
              "1118                 0.515035\n",
              "1120                 0.541604\n",
              "1122                 0.567931\n",
              "1124                 0.592149\n",
              "                       ...   \n",
              "1682                 0.580350\n",
              "1684                 0.570007\n",
              "1686                 0.552562\n",
              "1688                 0.525651\n",
              "1690                 0.505358\n",
              "Name: ContentUniformity, Length: 88, dtype: float64"
            ]
          },
          "metadata": {
            "tags": []
          },
          "execution_count": 60
        }
      ]
    },
    {
      "cell_type": "code",
      "metadata": {
        "id": "zxXo5Oaq46i0"
      },
      "source": [
        "columns = list(df.columns)"
      ],
      "execution_count": 61,
      "outputs": []
    },
    {
      "cell_type": "markdown",
      "metadata": {
        "id": "P6iLb_uBKRSo"
      },
      "source": [
        "# Model Training"
      ]
    },
    {
      "cell_type": "code",
      "metadata": {
        "id": "QQfgXH_RRl-N"
      },
      "source": [
        "train_dataset = filtered_df.sample(frac=0.8, random_state=0)\n",
        "test_dataset = filtered_df.drop(train_dataset.index)\n",
        "#train_dataset = df.sample(frac=0.8, random_state=0)\n",
        "#test_dataset = df.drop(train_dataset.index)"
      ],
      "execution_count": 62,
      "outputs": []
    },
    {
      "cell_type": "code",
      "metadata": {
        "id": "ITKIsrTASp5s"
      },
      "source": [
        "train_features = train_dataset.copy()\n",
        "test_features = test_dataset.copy()\n",
        "\n",
        "train_labels = train_features.pop('ContentUniformity')\n",
        "test_labels = test_features.pop('ContentUniformity')"
      ],
      "execution_count": 63,
      "outputs": []
    },
    {
      "cell_type": "code",
      "metadata": {
        "id": "INiDtTt2MME6"
      },
      "source": [
        "normalizer = preprocessing.Normalization(axis=-1)\n",
        "normalizer.adapt(np.array(train_features))"
      ],
      "execution_count": 64,
      "outputs": []
    },
    {
      "cell_type": "markdown",
      "metadata": {
        "id": "Nl9T8uCFja30"
      },
      "source": [
        "## Baseline Model Training"
      ]
    },
    {
      "cell_type": "code",
      "metadata": {
        "id": "NC-OPV_8LV2H"
      },
      "source": [
        "# Baseline Solution taken from experience \n",
        "# as I have worked on a similar dataset\n",
        "def build_and_compile_model(norm):\n",
        "  model = keras.Sequential([\n",
        "      norm,\n",
        "      layers.Dense(256, activation='relu'),\n",
        "      layers.Dense(128, activation='swish'),\n",
        "      layers.Dense(16, activation='swish'),\n",
        "      layers.Dense(8, activation='relu'),\n",
        "      layers.Dense(1)\n",
        "  ])\n",
        "\n",
        "  model.compile(loss='mean_absolute_percentage_error',\n",
        "                optimizer=tf.keras.optimizers.Adam(0.001))\n",
        "  return model"
      ],
      "execution_count": 65,
      "outputs": []
    },
    {
      "cell_type": "code",
      "metadata": {
        "colab": {
          "base_uri": "https://localhost:8080/"
        },
        "id": "lQUf2HElYaoC",
        "outputId": "4e47e412-3198-4332-b63e-b4935599b040"
      },
      "source": [
        "dnn_model = build_and_compile_model(normalizer)\n",
        "dnn_model.summary()"
      ],
      "execution_count": 66,
      "outputs": [
        {
          "output_type": "stream",
          "text": [
            "Model: \"sequential_1\"\n",
            "_________________________________________________________________\n",
            "Layer (type)                 Output Shape              Param #   \n",
            "=================================================================\n",
            "normalization (Normalization (None, 212)               425       \n",
            "_________________________________________________________________\n",
            "dense_6 (Dense)              (None, 256)               54528     \n",
            "_________________________________________________________________\n",
            "dense_7 (Dense)              (None, 128)               32896     \n",
            "_________________________________________________________________\n",
            "dense_8 (Dense)              (None, 16)                2064      \n",
            "_________________________________________________________________\n",
            "dense_9 (Dense)              (None, 8)                 136       \n",
            "_________________________________________________________________\n",
            "dense_10 (Dense)             (None, 1)                 9         \n",
            "=================================================================\n",
            "Total params: 90,058\n",
            "Trainable params: 89,633\n",
            "Non-trainable params: 425\n",
            "_________________________________________________________________\n"
          ],
          "name": "stdout"
        }
      ]
    },
    {
      "cell_type": "code",
      "metadata": {
        "colab": {
          "base_uri": "https://localhost:8080/"
        },
        "id": "tSLy2XjCYiYu",
        "outputId": "2461e9ee-7680-49ce-e3bf-f6d743dac0d6"
      },
      "source": [
        "%%time\n",
        "history = dnn_model.fit(\n",
        "    train_features, train_labels,\n",
        "    validation_split=0.2,\n",
        "    verbose=1, epochs=100)"
      ],
      "execution_count": 67,
      "outputs": [
        {
          "output_type": "stream",
          "text": [
            "Epoch 1/100\n",
            "4/4 [==============================] - 1s 114ms/step - loss: 99.4629 - val_loss: 98.1615\n",
            "Epoch 2/100\n",
            "4/4 [==============================] - 0s 9ms/step - loss: 97.7499 - val_loss: 95.5941\n",
            "Epoch 3/100\n",
            "4/4 [==============================] - 0s 11ms/step - loss: 94.8849 - val_loss: 91.1641\n",
            "Epoch 4/100\n",
            "4/4 [==============================] - 0s 9ms/step - loss: 90.1554 - val_loss: 84.0088\n",
            "Epoch 5/100\n",
            "4/4 [==============================] - 0s 10ms/step - loss: 82.8569 - val_loss: 72.9425\n",
            "Epoch 6/100\n",
            "4/4 [==============================] - 0s 10ms/step - loss: 70.9944 - val_loss: 58.4605\n",
            "Epoch 7/100\n",
            "4/4 [==============================] - 0s 10ms/step - loss: 57.3901 - val_loss: 48.4723\n",
            "Epoch 8/100\n",
            "4/4 [==============================] - 0s 9ms/step - loss: 51.2689 - val_loss: 48.2791\n",
            "Epoch 9/100\n",
            "4/4 [==============================] - 0s 9ms/step - loss: 50.5934 - val_loss: 48.6223\n",
            "Epoch 10/100\n",
            "4/4 [==============================] - 0s 15ms/step - loss: 49.7919 - val_loss: 45.1730\n",
            "Epoch 11/100\n",
            "4/4 [==============================] - 0s 10ms/step - loss: 46.9600 - val_loss: 42.1799\n",
            "Epoch 12/100\n",
            "4/4 [==============================] - 0s 9ms/step - loss: 47.3159 - val_loss: 42.5096\n",
            "Epoch 13/100\n",
            "4/4 [==============================] - 0s 10ms/step - loss: 46.9284 - val_loss: 41.7002\n",
            "Epoch 14/100\n",
            "4/4 [==============================] - 0s 16ms/step - loss: 45.9412 - val_loss: 41.8983\n",
            "Epoch 15/100\n",
            "4/4 [==============================] - 0s 10ms/step - loss: 45.8251 - val_loss: 41.4644\n",
            "Epoch 16/100\n",
            "4/4 [==============================] - 0s 10ms/step - loss: 45.3585 - val_loss: 40.4018\n",
            "Epoch 17/100\n",
            "4/4 [==============================] - 0s 14ms/step - loss: 44.7960 - val_loss: 40.2489\n",
            "Epoch 18/100\n",
            "4/4 [==============================] - 0s 10ms/step - loss: 44.5161 - val_loss: 39.8234\n",
            "Epoch 19/100\n",
            "4/4 [==============================] - 0s 11ms/step - loss: 43.9652 - val_loss: 39.4573\n",
            "Epoch 20/100\n",
            "4/4 [==============================] - 0s 9ms/step - loss: 43.6566 - val_loss: 39.1566\n",
            "Epoch 21/100\n",
            "4/4 [==============================] - 0s 11ms/step - loss: 43.2102 - val_loss: 38.9465\n",
            "Epoch 22/100\n",
            "4/4 [==============================] - 0s 10ms/step - loss: 42.7943 - val_loss: 38.5842\n",
            "Epoch 23/100\n",
            "4/4 [==============================] - 0s 10ms/step - loss: 42.2266 - val_loss: 38.0378\n",
            "Epoch 24/100\n",
            "4/4 [==============================] - 0s 10ms/step - loss: 41.6146 - val_loss: 37.1387\n",
            "Epoch 25/100\n",
            "4/4 [==============================] - 0s 9ms/step - loss: 41.0399 - val_loss: 36.5193\n",
            "Epoch 26/100\n",
            "4/4 [==============================] - 0s 9ms/step - loss: 40.4525 - val_loss: 35.6335\n",
            "Epoch 27/100\n",
            "4/4 [==============================] - 0s 9ms/step - loss: 39.3936 - val_loss: 34.8996\n",
            "Epoch 28/100\n",
            "4/4 [==============================] - 0s 9ms/step - loss: 38.5096 - val_loss: 33.7443\n",
            "Epoch 29/100\n",
            "4/4 [==============================] - 0s 11ms/step - loss: 37.6332 - val_loss: 32.6479\n",
            "Epoch 30/100\n",
            "4/4 [==============================] - 0s 11ms/step - loss: 36.6827 - val_loss: 31.6274\n",
            "Epoch 31/100\n",
            "4/4 [==============================] - 0s 9ms/step - loss: 35.6754 - val_loss: 30.3639\n",
            "Epoch 32/100\n",
            "4/4 [==============================] - 0s 10ms/step - loss: 34.6703 - val_loss: 29.4541\n",
            "Epoch 33/100\n",
            "4/4 [==============================] - 0s 12ms/step - loss: 33.7508 - val_loss: 28.0979\n",
            "Epoch 34/100\n",
            "4/4 [==============================] - 0s 16ms/step - loss: 33.0950 - val_loss: 27.5033\n",
            "Epoch 35/100\n",
            "4/4 [==============================] - 0s 11ms/step - loss: 31.9859 - val_loss: 25.6628\n",
            "Epoch 36/100\n",
            "4/4 [==============================] - 0s 9ms/step - loss: 30.5709 - val_loss: 24.6877\n",
            "Epoch 37/100\n",
            "4/4 [==============================] - 0s 10ms/step - loss: 29.4892 - val_loss: 23.4780\n",
            "Epoch 38/100\n",
            "4/4 [==============================] - 0s 10ms/step - loss: 28.4748 - val_loss: 22.6894\n",
            "Epoch 39/100\n",
            "4/4 [==============================] - 0s 9ms/step - loss: 27.3579 - val_loss: 21.2032\n",
            "Epoch 40/100\n",
            "4/4 [==============================] - 0s 9ms/step - loss: 26.0535 - val_loss: 20.4619\n",
            "Epoch 41/100\n",
            "4/4 [==============================] - 0s 9ms/step - loss: 25.2229 - val_loss: 20.4929\n",
            "Epoch 42/100\n",
            "4/4 [==============================] - 0s 9ms/step - loss: 24.0495 - val_loss: 18.5549\n",
            "Epoch 43/100\n",
            "4/4 [==============================] - 0s 9ms/step - loss: 23.0024 - val_loss: 17.7862\n",
            "Epoch 44/100\n",
            "4/4 [==============================] - 0s 12ms/step - loss: 21.9246 - val_loss: 17.1463\n",
            "Epoch 45/100\n",
            "4/4 [==============================] - 0s 10ms/step - loss: 21.6518 - val_loss: 18.3576\n",
            "Epoch 46/100\n",
            "4/4 [==============================] - 0s 10ms/step - loss: 20.7288 - val_loss: 15.0573\n",
            "Epoch 47/100\n",
            "4/4 [==============================] - 0s 12ms/step - loss: 19.3154 - val_loss: 14.8121\n",
            "Epoch 48/100\n",
            "4/4 [==============================] - 0s 9ms/step - loss: 18.3944 - val_loss: 14.1556\n",
            "Epoch 49/100\n",
            "4/4 [==============================] - 0s 10ms/step - loss: 18.0477 - val_loss: 16.8102\n",
            "Epoch 50/100\n",
            "4/4 [==============================] - 0s 11ms/step - loss: 16.5621 - val_loss: 13.1161\n",
            "Epoch 51/100\n",
            "4/4 [==============================] - 0s 10ms/step - loss: 16.5998 - val_loss: 12.7065\n",
            "Epoch 52/100\n",
            "4/4 [==============================] - 0s 10ms/step - loss: 16.0238 - val_loss: 13.7672\n",
            "Epoch 53/100\n",
            "4/4 [==============================] - 0s 17ms/step - loss: 14.9816 - val_loss: 12.5892\n",
            "Epoch 54/100\n",
            "4/4 [==============================] - 0s 13ms/step - loss: 14.4880 - val_loss: 10.8941\n",
            "Epoch 55/100\n",
            "4/4 [==============================] - 0s 10ms/step - loss: 13.5686 - val_loss: 11.1932\n",
            "Epoch 56/100\n",
            "4/4 [==============================] - 0s 10ms/step - loss: 13.2441 - val_loss: 10.9593\n",
            "Epoch 57/100\n",
            "4/4 [==============================] - 0s 10ms/step - loss: 13.4410 - val_loss: 9.9711\n",
            "Epoch 58/100\n",
            "4/4 [==============================] - 0s 11ms/step - loss: 12.3178 - val_loss: 11.9250\n",
            "Epoch 59/100\n",
            "4/4 [==============================] - 0s 10ms/step - loss: 13.3275 - val_loss: 13.0784\n",
            "Epoch 60/100\n",
            "4/4 [==============================] - 0s 10ms/step - loss: 12.9721 - val_loss: 9.9832\n",
            "Epoch 61/100\n",
            "4/4 [==============================] - 0s 10ms/step - loss: 12.2709 - val_loss: 9.9378\n",
            "Epoch 62/100\n",
            "4/4 [==============================] - 0s 11ms/step - loss: 11.3698 - val_loss: 10.3824\n",
            "Epoch 63/100\n",
            "4/4 [==============================] - 0s 9ms/step - loss: 10.5519 - val_loss: 8.7026\n",
            "Epoch 64/100\n",
            "4/4 [==============================] - 0s 10ms/step - loss: 10.2495 - val_loss: 9.9482\n",
            "Epoch 65/100\n",
            "4/4 [==============================] - 0s 11ms/step - loss: 10.0872 - val_loss: 9.0917\n",
            "Epoch 66/100\n",
            "4/4 [==============================] - 0s 10ms/step - loss: 9.9385 - val_loss: 9.1415\n",
            "Epoch 67/100\n",
            "4/4 [==============================] - 0s 9ms/step - loss: 11.1079 - val_loss: 8.5256\n",
            "Epoch 68/100\n",
            "4/4 [==============================] - 0s 10ms/step - loss: 10.1345 - val_loss: 8.8150\n",
            "Epoch 69/100\n",
            "4/4 [==============================] - 0s 10ms/step - loss: 9.7501 - val_loss: 11.1021\n",
            "Epoch 70/100\n",
            "4/4 [==============================] - 0s 11ms/step - loss: 10.5179 - val_loss: 9.8057\n",
            "Epoch 71/100\n",
            "4/4 [==============================] - 0s 12ms/step - loss: 9.3128 - val_loss: 8.7464\n",
            "Epoch 72/100\n",
            "4/4 [==============================] - 0s 10ms/step - loss: 9.4262 - val_loss: 10.1546\n",
            "Epoch 73/100\n",
            "4/4 [==============================] - 0s 11ms/step - loss: 9.8315 - val_loss: 9.8123\n",
            "Epoch 74/100\n",
            "4/4 [==============================] - 0s 9ms/step - loss: 8.8033 - val_loss: 7.1233\n",
            "Epoch 75/100\n",
            "4/4 [==============================] - 0s 11ms/step - loss: 9.0994 - val_loss: 7.4388\n",
            "Epoch 76/100\n",
            "4/4 [==============================] - 0s 11ms/step - loss: 8.8458 - val_loss: 9.1315\n",
            "Epoch 77/100\n",
            "4/4 [==============================] - 0s 10ms/step - loss: 8.7679 - val_loss: 6.8741\n",
            "Epoch 78/100\n",
            "4/4 [==============================] - 0s 10ms/step - loss: 8.1765 - val_loss: 8.4643\n",
            "Epoch 79/100\n",
            "4/4 [==============================] - 0s 10ms/step - loss: 8.3624 - val_loss: 7.4042\n",
            "Epoch 80/100\n",
            "4/4 [==============================] - 0s 10ms/step - loss: 8.6130 - val_loss: 8.7323\n",
            "Epoch 81/100\n",
            "4/4 [==============================] - 0s 10ms/step - loss: 7.6794 - val_loss: 7.0990\n",
            "Epoch 82/100\n",
            "4/4 [==============================] - 0s 10ms/step - loss: 7.5213 - val_loss: 6.9747\n",
            "Epoch 83/100\n",
            "4/4 [==============================] - 0s 10ms/step - loss: 7.2014 - val_loss: 6.4602\n",
            "Epoch 84/100\n",
            "4/4 [==============================] - 0s 10ms/step - loss: 7.3935 - val_loss: 6.0807\n",
            "Epoch 85/100\n",
            "4/4 [==============================] - 0s 10ms/step - loss: 7.8096 - val_loss: 9.7901\n",
            "Epoch 86/100\n",
            "4/4 [==============================] - 0s 10ms/step - loss: 7.8879 - val_loss: 7.3774\n",
            "Epoch 87/100\n",
            "4/4 [==============================] - 0s 10ms/step - loss: 6.7062 - val_loss: 6.4752\n",
            "Epoch 88/100\n",
            "4/4 [==============================] - 0s 10ms/step - loss: 6.8842 - val_loss: 7.7225\n",
            "Epoch 89/100\n",
            "4/4 [==============================] - 0s 10ms/step - loss: 6.4722 - val_loss: 6.9836\n",
            "Epoch 90/100\n",
            "4/4 [==============================] - 0s 10ms/step - loss: 6.3277 - val_loss: 7.0959\n",
            "Epoch 91/100\n",
            "4/4 [==============================] - 0s 10ms/step - loss: 6.0240 - val_loss: 7.1491\n",
            "Epoch 92/100\n",
            "4/4 [==============================] - 0s 9ms/step - loss: 6.0653 - val_loss: 6.7704\n",
            "Epoch 93/100\n",
            "4/4 [==============================] - 0s 9ms/step - loss: 5.7195 - val_loss: 6.4009\n",
            "Epoch 94/100\n",
            "4/4 [==============================] - 0s 11ms/step - loss: 5.6091 - val_loss: 6.9076\n",
            "Epoch 95/100\n",
            "4/4 [==============================] - 0s 10ms/step - loss: 5.6588 - val_loss: 6.6743\n",
            "Epoch 96/100\n",
            "4/4 [==============================] - 0s 11ms/step - loss: 6.4540 - val_loss: 7.1387\n",
            "Epoch 97/100\n",
            "4/4 [==============================] - 0s 12ms/step - loss: 5.5384 - val_loss: 6.5379\n",
            "Epoch 98/100\n",
            "4/4 [==============================] - 0s 10ms/step - loss: 5.4156 - val_loss: 6.0665\n",
            "Epoch 99/100\n",
            "4/4 [==============================] - 0s 9ms/step - loss: 5.6455 - val_loss: 6.4098\n",
            "Epoch 100/100\n",
            "4/4 [==============================] - 0s 10ms/step - loss: 5.2747 - val_loss: 5.9319\n",
            "CPU times: user 4.85 s, sys: 540 ms, total: 5.39 s\n",
            "Wall time: 5.21 s\n"
          ],
          "name": "stdout"
        }
      ]
    },
    {
      "cell_type": "code",
      "metadata": {
        "colab": {
          "base_uri": "https://localhost:8080/",
          "height": 278
        },
        "id": "_B-bmNrDYn19",
        "outputId": "10db3603-2d46-4489-8041-9d365301ed25"
      },
      "source": [
        "def plot_loss(history):\n",
        "  plt.plot(history.history['loss'], label='loss')\n",
        "  plt.plot(history.history['val_loss'], label='val_loss')\n",
        "  #plt.ylim([0, 10])\n",
        "  plt.xlabel('Epoch')\n",
        "  plt.ylabel('MAPE')\n",
        "  plt.legend()\n",
        "  plt.grid(True)\n",
        "plot_loss(history)"
      ],
      "execution_count": 68,
      "outputs": [
        {
          "output_type": "display_data",
          "data": {
            "image/png": "[encoded data removed]",
            "text/plain": [
              "<Figure size 432x288 with 1 Axes>"
            ]
          },
          "metadata": {
            "tags": [],
            "needs_background": "light"
          }
        }
      ]
    },
    {
      "cell_type": "code",
      "metadata": {
        "colab": {
          "base_uri": "https://localhost:8080/"
        },
        "id": "lfw2dDDclJXk",
        "outputId": "15dc4f4c-c178-44b2-9b2f-1c45d5105931"
      },
      "source": [
        "# Minimum Validation MAPE\n",
        "print(min(history.history['val_loss']))"
      ],
      "execution_count": 69,
      "outputs": [
        {
          "output_type": "stream",
          "text": [
            "5.931873798370361\n"
          ],
          "name": "stdout"
        }
      ]
    },
    {
      "cell_type": "code",
      "metadata": {
        "colab": {
          "base_uri": "https://localhost:8080/"
        },
        "id": "131ZeMDuZA04",
        "outputId": "f4eb1d55-d4cb-4d60-b45c-7d325c7f046a"
      },
      "source": [
        "test_results = {}\n",
        "test_results['baseline_model'] = dnn_model.evaluate(test_features, test_labels, verbose=1)"
      ],
      "execution_count": 70,
      "outputs": [
        {
          "output_type": "stream",
          "text": [
            "2/2 [==============================] - 0s 7ms/step - loss: 8.2651\n"
          ],
          "name": "stdout"
        }
      ]
    },
    {
      "cell_type": "code",
      "metadata": {
        "colab": {
          "base_uri": "https://localhost:8080/"
        },
        "id": "xaRY5HcmZPXr",
        "outputId": "9d3070b3-b7d1-468d-8cd3-4053f6b9326f"
      },
      "source": [
        "test_results"
      ],
      "execution_count": 71,
      "outputs": [
        {
          "output_type": "execute_result",
          "data": {
            "text/plain": [
              "{'baseline_model': 8.265131950378418}"
            ]
          },
          "metadata": {
            "tags": []
          },
          "execution_count": 71
        }
      ]
    },
    {
      "cell_type": "code",
      "metadata": {
        "colab": {
          "base_uri": "https://localhost:8080/",
          "height": 278
        },
        "id": "o-ZgDKQgZamq",
        "outputId": "59de77c2-9fde-4389-f011-6254a8144357"
      },
      "source": [
        "test_predictions = dnn_model.predict(test_features).flatten()\n",
        "\n",
        "a = plt.axes(aspect='equal')\n",
        "plt.scatter(test_labels, test_predictions)\n",
        "plt.xlabel('True Values')\n",
        "plt.ylabel('Predictions')\n",
        "lims = [50, 150]\n",
        "plt.xlim(lims)\n",
        "plt.ylim(lims)\n",
        "_ = plt.plot(lims, lims)"
      ],
      "execution_count": 72,
      "outputs": [
        {
          "output_type": "display_data",
          "data": {
            "image/png": "[encoded data removed]",
            "text/plain": [
              "<Figure size 432x288 with 1 Axes>"
            ]
          },
          "metadata": {
            "tags": [],
            "needs_background": "light"
          }
        }
      ]
    },
    {
      "cell_type": "markdown",
      "metadata": {
        "id": "LL44Fb0ojgXN"
      },
      "source": [
        "## HyperParamter Tuned Model"
      ]
    },
    {
      "cell_type": "code",
      "metadata": {
        "id": "BK_IQ7tLcQLO"
      },
      "source": [
        "## We will be using Keras Tuner to optimize the model\n",
        "def model_builder(hp):\n",
        "  model = keras.Sequential([normalizer])\n",
        "\n",
        "  # Tune the number of units in the first Dense layer\n",
        "  # Choose an optimal value between 8-256\n",
        "  for i in range(hp.Int('num_layers', 2, 10)):\n",
        "        model.add(layers.Dense(units=hp.Int('units_' + str(i),\n",
        "                                            min_value=8,\n",
        "                                            max_value=256,\n",
        "                                            step=32),\n",
        "                               activation='relu'))\n",
        "  model.add(keras.layers.Dense(1))\n",
        "\n",
        "  # Tune the learning rate for the optimizer\n",
        "  # Choose an optimal value from 0.01, 0.001, or 0.0001\n",
        "  model.compile(\n",
        "    optimizer=keras.optimizers.Adam(\n",
        "    hp.Choice('learning_rate', [1e-2, 1e-3, 1e-4])),\n",
        "    loss='mean_absolute_percentage_error',\n",
        "    metrics=['mean_absolute_percentage_error'])\n",
        "\n",
        "  return model"
      ],
      "execution_count": 73,
      "outputs": []
    },
    {
      "cell_type": "code",
      "metadata": {
        "id": "6bwEStBBc70I"
      },
      "source": [
        "tuner = RandomSearch(model_builder,\n",
        "                     objective='val_loss',\n",
        "                     max_trials=5,\n",
        "                     executions_per_trial=3,\n",
        "                     project_name='HP_Tuner')"
      ],
      "execution_count": 74,
      "outputs": []
    },
    {
      "cell_type": "code",
      "metadata": {
        "colab": {
          "base_uri": "https://localhost:8080/"
        },
        "id": "vMgpnHZWiJau",
        "outputId": "d11b7820-b9fe-4a70-bfd7-5b1bd16ce2fa"
      },
      "source": [
        "tuner.search_space_summary()"
      ],
      "execution_count": 75,
      "outputs": [
        {
          "output_type": "stream",
          "text": [
            "Search space summary\n",
            "Default search space size: 4\n",
            "num_layers (Int)\n",
            "{'default': None, 'conditions': [], 'min_value': 2, 'max_value': 10, 'step': 1, 'sampling': None}\n",
            "units_0 (Int)\n",
            "{'default': None, 'conditions': [], 'min_value': 8, 'max_value': 256, 'step': 32, 'sampling': None}\n",
            "units_1 (Int)\n",
            "{'default': None, 'conditions': [], 'min_value': 8, 'max_value': 256, 'step': 32, 'sampling': None}\n",
            "learning_rate (Choice)\n",
            "{'default': 0.01, 'conditions': [], 'values': [0.01, 0.001, 0.0001], 'ordered': True}\n"
          ],
          "name": "stdout"
        }
      ]
    },
    {
      "cell_type": "code",
      "metadata": {
        "id": "-sfLib4hif-t"
      },
      "source": [
        "X_train, X_test, y_train, y_test = train_test_split(train_features, train_labels, test_size=0.2, random_state=0)"
      ],
      "execution_count": 76,
      "outputs": []
    },
    {
      "cell_type": "code",
      "metadata": {
        "colab": {
          "base_uri": "https://localhost:8080/"
        },
        "id": "mtF6A1QjiWW5",
        "outputId": "b939dac9-0993-4ba0-9860-5ebcf0adeab4"
      },
      "source": [
        "tuner.search(X_train, y_train,\n",
        "             epochs=100,\n",
        "             validation_data=(X_test, y_test))"
      ],
      "execution_count": 77,
      "outputs": [
        {
          "output_type": "stream",
          "text": [
            "Trial 5 Complete [00h 00m 27s]\n",
            "val_loss: 2.41696834564209\n",
            "\n",
            "Best val_loss So Far: 2.41696834564209\n",
            "Total elapsed time: 00h 02m 21s\n",
            "INFO:tensorflow:Oracle triggered exit\n"
          ],
          "name": "stdout"
        }
      ]
    },
    {
      "cell_type": "code",
      "metadata": {
        "colab": {
          "base_uri": "https://localhost:8080/"
        },
        "id": "tdCbq7XSip-M",
        "outputId": "4f877516-ef3d-478e-f8c7-26feb4f7c93a"
      },
      "source": [
        "tuner.results_summary()"
      ],
      "execution_count": 78,
      "outputs": [
        {
          "output_type": "stream",
          "text": [
            "Results summary\n",
            "Results in ./HP_Tuner\n",
            "Showing 10 best trials\n",
            "Objective(name='val_loss', direction='min')\n",
            "Trial summary\n",
            "Hyperparameters:\n",
            "num_layers: 9\n",
            "units_0: 104\n",
            "units_1: 8\n",
            "learning_rate: 0.01\n",
            "units_2: 232\n",
            "units_3: 136\n",
            "units_4: 136\n",
            "units_5: 168\n",
            "units_6: 168\n",
            "units_7: 104\n",
            "units_8: 136\n",
            "Score: 2.41696834564209\n",
            "Trial summary\n",
            "Hyperparameters:\n",
            "num_layers: 6\n",
            "units_0: 136\n",
            "units_1: 72\n",
            "learning_rate: 0.01\n",
            "units_2: 104\n",
            "units_3: 200\n",
            "units_4: 168\n",
            "units_5: 232\n",
            "units_6: 72\n",
            "units_7: 8\n",
            "Score: 3.769275188446045\n",
            "Trial summary\n",
            "Hyperparameters:\n",
            "num_layers: 9\n",
            "units_0: 104\n",
            "units_1: 168\n",
            "learning_rate: 0.001\n",
            "units_2: 72\n",
            "units_3: 200\n",
            "units_4: 40\n",
            "units_5: 200\n",
            "units_6: 168\n",
            "units_7: 72\n",
            "units_8: 8\n",
            "Score: 5.075222969055176\n",
            "Trial summary\n",
            "Hyperparameters:\n",
            "num_layers: 2\n",
            "units_0: 200\n",
            "units_1: 40\n",
            "learning_rate: 0.001\n",
            "Score: 15.484692573547363\n",
            "Trial summary\n",
            "Hyperparameters:\n",
            "num_layers: 8\n",
            "units_0: 200\n",
            "units_1: 72\n",
            "learning_rate: 0.001\n",
            "units_2: 8\n",
            "units_3: 8\n",
            "units_4: 8\n",
            "units_5: 8\n",
            "units_6: 8\n",
            "units_7: 8\n",
            "Score: 15.690245628356934\n"
          ],
          "name": "stdout"
        }
      ]
    },
    {
      "cell_type": "code",
      "metadata": {
        "id": "2woaw-4vj3Wv"
      },
      "source": [
        "optimal_model=tuner.get_best_models(num_models=1)[0]"
      ],
      "execution_count": 79,
      "outputs": []
    },
    {
      "cell_type": "code",
      "metadata": {
        "colab": {
          "base_uri": "https://localhost:8080/"
        },
        "id": "9ZmLCQI-qAoU",
        "outputId": "6ba3d62d-3afc-4a6c-b2d3-97dedbd559b7"
      },
      "source": [
        "%%time\n",
        "optimal_history = optimal_model.fit(X_train,y_train, epochs=100, \n",
        "                                    validation_data=(X_test,y_test))"
      ],
      "execution_count": 80,
      "outputs": [
        {
          "output_type": "stream",
          "text": [
            "Epoch 1/100\n",
            "4/4 [==============================] - 1s 123ms/step - loss: 2.1142 - mean_absolute_percentage_error: 2.1142 - val_loss: 3.0753 - val_mean_absolute_percentage_error: 3.0753\n",
            "Epoch 2/100\n",
            "4/4 [==============================] - 0s 11ms/step - loss: 2.3298 - mean_absolute_percentage_error: 2.3298 - val_loss: 3.1126 - val_mean_absolute_percentage_error: 3.1126\n",
            "Epoch 3/100\n",
            "4/4 [==============================] - 0s 11ms/step - loss: 2.2625 - mean_absolute_percentage_error: 2.2625 - val_loss: 2.1002 - val_mean_absolute_percentage_error: 2.1002\n",
            "Epoch 4/100\n",
            "4/4 [==============================] - 0s 11ms/step - loss: 2.2316 - mean_absolute_percentage_error: 2.2316 - val_loss: 3.4933 - val_mean_absolute_percentage_error: 3.4933\n",
            "Epoch 5/100\n",
            "4/4 [==============================] - 0s 12ms/step - loss: 2.3198 - mean_absolute_percentage_error: 2.3198 - val_loss: 2.7597 - val_mean_absolute_percentage_error: 2.7597\n",
            "Epoch 6/100\n",
            "4/4 [==============================] - 0s 12ms/step - loss: 2.1150 - mean_absolute_percentage_error: 2.1150 - val_loss: 2.3141 - val_mean_absolute_percentage_error: 2.3141\n",
            "Epoch 7/100\n",
            "4/4 [==============================] - 0s 16ms/step - loss: 1.9239 - mean_absolute_percentage_error: 1.9239 - val_loss: 2.4505 - val_mean_absolute_percentage_error: 2.4505\n",
            "Epoch 8/100\n",
            "4/4 [==============================] - 0s 17ms/step - loss: 2.8894 - mean_absolute_percentage_error: 2.8894 - val_loss: 1.8254 - val_mean_absolute_percentage_error: 1.8254\n",
            "Epoch 9/100\n",
            "4/4 [==============================] - 0s 11ms/step - loss: 2.2346 - mean_absolute_percentage_error: 2.2346 - val_loss: 3.9432 - val_mean_absolute_percentage_error: 3.9432\n",
            "Epoch 10/100\n",
            "4/4 [==============================] - 0s 13ms/step - loss: 2.8660 - mean_absolute_percentage_error: 2.8660 - val_loss: 3.5799 - val_mean_absolute_percentage_error: 3.5799\n",
            "Epoch 11/100\n",
            "4/4 [==============================] - 0s 12ms/step - loss: 2.7952 - mean_absolute_percentage_error: 2.7952 - val_loss: 3.8795 - val_mean_absolute_percentage_error: 3.8795\n",
            "Epoch 12/100\n",
            "4/4 [==============================] - 0s 11ms/step - loss: 4.2442 - mean_absolute_percentage_error: 4.2442 - val_loss: 5.1175 - val_mean_absolute_percentage_error: 5.1175\n",
            "Epoch 13/100\n",
            "4/4 [==============================] - 0s 11ms/step - loss: 4.7897 - mean_absolute_percentage_error: 4.7897 - val_loss: 3.1637 - val_mean_absolute_percentage_error: 3.1637\n",
            "Epoch 14/100\n",
            "4/4 [==============================] - 0s 11ms/step - loss: 4.4981 - mean_absolute_percentage_error: 4.4981 - val_loss: 6.1625 - val_mean_absolute_percentage_error: 6.1625\n",
            "Epoch 15/100\n",
            "4/4 [==============================] - 0s 11ms/step - loss: 6.0044 - mean_absolute_percentage_error: 6.0044 - val_loss: 2.6693 - val_mean_absolute_percentage_error: 2.6693\n",
            "Epoch 16/100\n",
            "4/4 [==============================] - 0s 11ms/step - loss: 5.5904 - mean_absolute_percentage_error: 5.5904 - val_loss: 5.1112 - val_mean_absolute_percentage_error: 5.1112\n",
            "Epoch 17/100\n",
            "4/4 [==============================] - 0s 11ms/step - loss: 4.9491 - mean_absolute_percentage_error: 4.9491 - val_loss: 5.5095 - val_mean_absolute_percentage_error: 5.5095\n",
            "Epoch 18/100\n",
            "4/4 [==============================] - 0s 11ms/step - loss: 4.1988 - mean_absolute_percentage_error: 4.1988 - val_loss: 3.2429 - val_mean_absolute_percentage_error: 3.2429\n",
            "Epoch 19/100\n",
            "4/4 [==============================] - 0s 12ms/step - loss: 3.9345 - mean_absolute_percentage_error: 3.9345 - val_loss: 4.7843 - val_mean_absolute_percentage_error: 4.7843\n",
            "Epoch 20/100\n",
            "4/4 [==============================] - 0s 13ms/step - loss: 4.0619 - mean_absolute_percentage_error: 4.0619 - val_loss: 4.1142 - val_mean_absolute_percentage_error: 4.1142\n",
            "Epoch 21/100\n",
            "4/4 [==============================] - 0s 11ms/step - loss: 2.9005 - mean_absolute_percentage_error: 2.9005 - val_loss: 3.7849 - val_mean_absolute_percentage_error: 3.7849\n",
            "Epoch 22/100\n",
            "4/4 [==============================] - 0s 12ms/step - loss: 3.0274 - mean_absolute_percentage_error: 3.0274 - val_loss: 2.4919 - val_mean_absolute_percentage_error: 2.4919\n",
            "Epoch 23/100\n",
            "4/4 [==============================] - 0s 11ms/step - loss: 3.5559 - mean_absolute_percentage_error: 3.5559 - val_loss: 3.2734 - val_mean_absolute_percentage_error: 3.2734\n",
            "Epoch 24/100\n",
            "4/4 [==============================] - 0s 11ms/step - loss: 3.8090 - mean_absolute_percentage_error: 3.8090 - val_loss: 5.4982 - val_mean_absolute_percentage_error: 5.4982\n",
            "Epoch 25/100\n",
            "4/4 [==============================] - 0s 10ms/step - loss: 3.4194 - mean_absolute_percentage_error: 3.4194 - val_loss: 3.7767 - val_mean_absolute_percentage_error: 3.7767\n",
            "Epoch 26/100\n",
            "4/4 [==============================] - 0s 11ms/step - loss: 2.8427 - mean_absolute_percentage_error: 2.8427 - val_loss: 3.3062 - val_mean_absolute_percentage_error: 3.3062\n",
            "Epoch 27/100\n",
            "4/4 [==============================] - 0s 11ms/step - loss: 2.7717 - mean_absolute_percentage_error: 2.7717 - val_loss: 3.0737 - val_mean_absolute_percentage_error: 3.0737\n",
            "Epoch 28/100\n",
            "4/4 [==============================] - 0s 11ms/step - loss: 3.2743 - mean_absolute_percentage_error: 3.2743 - val_loss: 6.1090 - val_mean_absolute_percentage_error: 6.1090\n",
            "Epoch 29/100\n",
            "4/4 [==============================] - 0s 11ms/step - loss: 3.4796 - mean_absolute_percentage_error: 3.4796 - val_loss: 5.4429 - val_mean_absolute_percentage_error: 5.4429\n",
            "Epoch 30/100\n",
            "4/4 [==============================] - 0s 14ms/step - loss: 4.3004 - mean_absolute_percentage_error: 4.3004 - val_loss: 4.4949 - val_mean_absolute_percentage_error: 4.4949\n",
            "Epoch 31/100\n",
            "4/4 [==============================] - 0s 14ms/step - loss: 4.0987 - mean_absolute_percentage_error: 4.0987 - val_loss: 5.3831 - val_mean_absolute_percentage_error: 5.3831\n",
            "Epoch 32/100\n",
            "4/4 [==============================] - 0s 12ms/step - loss: 4.1416 - mean_absolute_percentage_error: 4.1416 - val_loss: 4.8559 - val_mean_absolute_percentage_error: 4.8559\n",
            "Epoch 33/100\n",
            "4/4 [==============================] - 0s 12ms/step - loss: 4.3186 - mean_absolute_percentage_error: 4.3186 - val_loss: 3.8275 - val_mean_absolute_percentage_error: 3.8275\n",
            "Epoch 34/100\n",
            "4/4 [==============================] - 0s 11ms/step - loss: 3.4173 - mean_absolute_percentage_error: 3.4173 - val_loss: 4.6922 - val_mean_absolute_percentage_error: 4.6922\n",
            "Epoch 35/100\n",
            "4/4 [==============================] - 0s 12ms/step - loss: 3.3061 - mean_absolute_percentage_error: 3.3061 - val_loss: 3.5824 - val_mean_absolute_percentage_error: 3.5824\n",
            "Epoch 36/100\n",
            "4/4 [==============================] - 0s 15ms/step - loss: 2.9822 - mean_absolute_percentage_error: 2.9822 - val_loss: 2.7472 - val_mean_absolute_percentage_error: 2.7472\n",
            "Epoch 37/100\n",
            "4/4 [==============================] - 0s 11ms/step - loss: 2.1786 - mean_absolute_percentage_error: 2.1786 - val_loss: 2.7949 - val_mean_absolute_percentage_error: 2.7949\n",
            "Epoch 38/100\n",
            "4/4 [==============================] - 0s 12ms/step - loss: 2.1434 - mean_absolute_percentage_error: 2.1434 - val_loss: 1.9483 - val_mean_absolute_percentage_error: 1.9483\n",
            "Epoch 39/100\n",
            "4/4 [==============================] - 0s 12ms/step - loss: 2.1718 - mean_absolute_percentage_error: 2.1718 - val_loss: 6.4311 - val_mean_absolute_percentage_error: 6.4311\n",
            "Epoch 40/100\n",
            "4/4 [==============================] - 0s 12ms/step - loss: 4.6230 - mean_absolute_percentage_error: 4.6230 - val_loss: 2.9461 - val_mean_absolute_percentage_error: 2.9461\n",
            "Epoch 41/100\n",
            "4/4 [==============================] - 0s 11ms/step - loss: 2.4559 - mean_absolute_percentage_error: 2.4559 - val_loss: 2.4829 - val_mean_absolute_percentage_error: 2.4829\n",
            "Epoch 42/100\n",
            "4/4 [==============================] - 0s 11ms/step - loss: 2.0165 - mean_absolute_percentage_error: 2.0165 - val_loss: 2.0315 - val_mean_absolute_percentage_error: 2.0315\n",
            "Epoch 43/100\n",
            "4/4 [==============================] - 0s 12ms/step - loss: 1.8940 - mean_absolute_percentage_error: 1.8940 - val_loss: 2.0740 - val_mean_absolute_percentage_error: 2.0740\n",
            "Epoch 44/100\n",
            "4/4 [==============================] - 0s 11ms/step - loss: 2.8997 - mean_absolute_percentage_error: 2.8997 - val_loss: 3.7211 - val_mean_absolute_percentage_error: 3.7211\n",
            "Epoch 45/100\n",
            "4/4 [==============================] - 0s 13ms/step - loss: 4.3882 - mean_absolute_percentage_error: 4.3882 - val_loss: 5.3029 - val_mean_absolute_percentage_error: 5.3029\n",
            "Epoch 46/100\n",
            "4/4 [==============================] - 0s 11ms/step - loss: 4.7126 - mean_absolute_percentage_error: 4.7126 - val_loss: 3.0013 - val_mean_absolute_percentage_error: 3.0013\n",
            "Epoch 47/100\n",
            "4/4 [==============================] - 0s 11ms/step - loss: 5.3003 - mean_absolute_percentage_error: 5.3003 - val_loss: 5.6922 - val_mean_absolute_percentage_error: 5.6922\n",
            "Epoch 48/100\n",
            "4/4 [==============================] - 0s 13ms/step - loss: 4.1104 - mean_absolute_percentage_error: 4.1104 - val_loss: 2.5566 - val_mean_absolute_percentage_error: 2.5566\n",
            "Epoch 49/100\n",
            "4/4 [==============================] - 0s 12ms/step - loss: 2.3664 - mean_absolute_percentage_error: 2.3664 - val_loss: 2.2844 - val_mean_absolute_percentage_error: 2.2844\n",
            "Epoch 50/100\n",
            "4/4 [==============================] - 0s 11ms/step - loss: 2.0689 - mean_absolute_percentage_error: 2.0689 - val_loss: 3.9682 - val_mean_absolute_percentage_error: 3.9682\n",
            "Epoch 51/100\n",
            "4/4 [==============================] - 0s 11ms/step - loss: 3.7650 - mean_absolute_percentage_error: 3.7650 - val_loss: 6.7179 - val_mean_absolute_percentage_error: 6.7179\n",
            "Epoch 52/100\n",
            "4/4 [==============================] - 0s 11ms/step - loss: 6.2111 - mean_absolute_percentage_error: 6.2111 - val_loss: 6.8613 - val_mean_absolute_percentage_error: 6.8613\n",
            "Epoch 53/100\n",
            "4/4 [==============================] - 0s 12ms/step - loss: 5.8191 - mean_absolute_percentage_error: 5.8191 - val_loss: 3.9819 - val_mean_absolute_percentage_error: 3.9819\n",
            "Epoch 54/100\n",
            "4/4 [==============================] - 0s 11ms/step - loss: 4.7824 - mean_absolute_percentage_error: 4.7824 - val_loss: 7.8527 - val_mean_absolute_percentage_error: 7.8527\n",
            "Epoch 55/100\n",
            "4/4 [==============================] - 0s 11ms/step - loss: 6.6889 - mean_absolute_percentage_error: 6.6889 - val_loss: 11.0152 - val_mean_absolute_percentage_error: 11.0152\n",
            "Epoch 56/100\n",
            "4/4 [==============================] - 0s 12ms/step - loss: 8.3124 - mean_absolute_percentage_error: 8.3124 - val_loss: 8.5139 - val_mean_absolute_percentage_error: 8.5139\n",
            "Epoch 57/100\n",
            "4/4 [==============================] - 0s 11ms/step - loss: 5.7190 - mean_absolute_percentage_error: 5.7190 - val_loss: 3.2356 - val_mean_absolute_percentage_error: 3.2356\n",
            "Epoch 58/100\n",
            "4/4 [==============================] - 0s 11ms/step - loss: 5.0269 - mean_absolute_percentage_error: 5.0269 - val_loss: 4.8407 - val_mean_absolute_percentage_error: 4.8407\n",
            "Epoch 59/100\n",
            "4/4 [==============================] - 0s 11ms/step - loss: 4.2284 - mean_absolute_percentage_error: 4.2284 - val_loss: 2.4111 - val_mean_absolute_percentage_error: 2.4111\n",
            "Epoch 60/100\n",
            "4/4 [==============================] - 0s 11ms/step - loss: 2.2213 - mean_absolute_percentage_error: 2.2213 - val_loss: 2.9422 - val_mean_absolute_percentage_error: 2.9422\n",
            "Epoch 61/100\n",
            "4/4 [==============================] - 0s 12ms/step - loss: 2.7663 - mean_absolute_percentage_error: 2.7663 - val_loss: 3.2138 - val_mean_absolute_percentage_error: 3.2138\n",
            "Epoch 62/100\n",
            "4/4 [==============================] - 0s 11ms/step - loss: 2.4235 - mean_absolute_percentage_error: 2.4235 - val_loss: 1.6858 - val_mean_absolute_percentage_error: 1.6858\n",
            "Epoch 63/100\n",
            "4/4 [==============================] - 0s 13ms/step - loss: 1.8123 - mean_absolute_percentage_error: 1.8123 - val_loss: 3.6759 - val_mean_absolute_percentage_error: 3.6759\n",
            "Epoch 64/100\n",
            "4/4 [==============================] - 0s 15ms/step - loss: 2.8392 - mean_absolute_percentage_error: 2.8392 - val_loss: 3.7627 - val_mean_absolute_percentage_error: 3.7627\n",
            "Epoch 65/100\n",
            "4/4 [==============================] - 0s 11ms/step - loss: 3.0548 - mean_absolute_percentage_error: 3.0548 - val_loss: 2.2481 - val_mean_absolute_percentage_error: 2.2481\n",
            "Epoch 66/100\n",
            "4/4 [==============================] - 0s 11ms/step - loss: 2.7565 - mean_absolute_percentage_error: 2.7565 - val_loss: 2.3090 - val_mean_absolute_percentage_error: 2.3090\n",
            "Epoch 67/100\n",
            "4/4 [==============================] - 0s 11ms/step - loss: 4.7272 - mean_absolute_percentage_error: 4.7272 - val_loss: 6.1849 - val_mean_absolute_percentage_error: 6.1849\n",
            "Epoch 68/100\n",
            "4/4 [==============================] - 0s 11ms/step - loss: 6.5087 - mean_absolute_percentage_error: 6.5087 - val_loss: 11.1182 - val_mean_absolute_percentage_error: 11.1182\n",
            "Epoch 69/100\n",
            "4/4 [==============================] - 0s 11ms/step - loss: 7.4889 - mean_absolute_percentage_error: 7.4889 - val_loss: 7.2431 - val_mean_absolute_percentage_error: 7.2431\n",
            "Epoch 70/100\n",
            "4/4 [==============================] - 0s 11ms/step - loss: 5.6481 - mean_absolute_percentage_error: 5.6481 - val_loss: 5.8658 - val_mean_absolute_percentage_error: 5.8658\n",
            "Epoch 71/100\n",
            "4/4 [==============================] - 0s 12ms/step - loss: 5.6058 - mean_absolute_percentage_error: 5.6058 - val_loss: 2.6898 - val_mean_absolute_percentage_error: 2.6898\n",
            "Epoch 72/100\n",
            "4/4 [==============================] - 0s 12ms/step - loss: 4.1936 - mean_absolute_percentage_error: 4.1936 - val_loss: 3.0840 - val_mean_absolute_percentage_error: 3.0840\n",
            "Epoch 73/100\n",
            "4/4 [==============================] - 0s 11ms/step - loss: 2.7548 - mean_absolute_percentage_error: 2.7548 - val_loss: 1.7920 - val_mean_absolute_percentage_error: 1.7920\n",
            "Epoch 74/100\n",
            "4/4 [==============================] - 0s 12ms/step - loss: 2.1087 - mean_absolute_percentage_error: 2.1087 - val_loss: 2.0915 - val_mean_absolute_percentage_error: 2.0915\n",
            "Epoch 75/100\n",
            "4/4 [==============================] - 0s 14ms/step - loss: 2.0011 - mean_absolute_percentage_error: 2.0011 - val_loss: 3.0516 - val_mean_absolute_percentage_error: 3.0516\n",
            "Epoch 76/100\n",
            "4/4 [==============================] - 0s 13ms/step - loss: 2.1744 - mean_absolute_percentage_error: 2.1744 - val_loss: 6.1028 - val_mean_absolute_percentage_error: 6.1028\n",
            "Epoch 77/100\n",
            "4/4 [==============================] - 0s 12ms/step - loss: 4.9680 - mean_absolute_percentage_error: 4.9680 - val_loss: 6.0316 - val_mean_absolute_percentage_error: 6.0316\n",
            "Epoch 78/100\n",
            "4/4 [==============================] - 0s 11ms/step - loss: 4.7129 - mean_absolute_percentage_error: 4.7129 - val_loss: 2.3112 - val_mean_absolute_percentage_error: 2.3112\n",
            "Epoch 79/100\n",
            "4/4 [==============================] - 0s 11ms/step - loss: 4.1735 - mean_absolute_percentage_error: 4.1735 - val_loss: 3.4635 - val_mean_absolute_percentage_error: 3.4635\n",
            "Epoch 80/100\n",
            "4/4 [==============================] - 0s 12ms/step - loss: 2.5468 - mean_absolute_percentage_error: 2.5468 - val_loss: 2.8472 - val_mean_absolute_percentage_error: 2.8472\n",
            "Epoch 81/100\n",
            "4/4 [==============================] - 0s 11ms/step - loss: 2.4207 - mean_absolute_percentage_error: 2.4207 - val_loss: 3.4457 - val_mean_absolute_percentage_error: 3.4457\n",
            "Epoch 82/100\n",
            "4/4 [==============================] - 0s 11ms/step - loss: 2.9146 - mean_absolute_percentage_error: 2.9146 - val_loss: 2.0021 - val_mean_absolute_percentage_error: 2.0021\n",
            "Epoch 83/100\n",
            "4/4 [==============================] - 0s 11ms/step - loss: 2.3612 - mean_absolute_percentage_error: 2.3612 - val_loss: 2.7599 - val_mean_absolute_percentage_error: 2.7599\n",
            "Epoch 84/100\n",
            "4/4 [==============================] - 0s 12ms/step - loss: 1.9377 - mean_absolute_percentage_error: 1.9377 - val_loss: 3.0969 - val_mean_absolute_percentage_error: 3.0969\n",
            "Epoch 85/100\n",
            "4/4 [==============================] - 0s 16ms/step - loss: 1.9312 - mean_absolute_percentage_error: 1.9312 - val_loss: 3.4401 - val_mean_absolute_percentage_error: 3.4401\n",
            "Epoch 86/100\n",
            "4/4 [==============================] - 0s 15ms/step - loss: 2.6319 - mean_absolute_percentage_error: 2.6319 - val_loss: 2.7885 - val_mean_absolute_percentage_error: 2.7885\n",
            "Epoch 87/100\n",
            "4/4 [==============================] - 0s 12ms/step - loss: 2.9918 - mean_absolute_percentage_error: 2.9918 - val_loss: 5.5143 - val_mean_absolute_percentage_error: 5.5143\n",
            "Epoch 88/100\n",
            "4/4 [==============================] - 0s 12ms/step - loss: 4.4584 - mean_absolute_percentage_error: 4.4584 - val_loss: 3.3783 - val_mean_absolute_percentage_error: 3.3783\n",
            "Epoch 89/100\n",
            "4/4 [==============================] - 0s 11ms/step - loss: 2.7923 - mean_absolute_percentage_error: 2.7923 - val_loss: 3.2183 - val_mean_absolute_percentage_error: 3.2183\n",
            "Epoch 90/100\n",
            "4/4 [==============================] - 0s 12ms/step - loss: 3.8992 - mean_absolute_percentage_error: 3.8992 - val_loss: 4.4833 - val_mean_absolute_percentage_error: 4.4833\n",
            "Epoch 91/100\n",
            "4/4 [==============================] - 0s 11ms/step - loss: 3.9712 - mean_absolute_percentage_error: 3.9712 - val_loss: 2.7502 - val_mean_absolute_percentage_error: 2.7502\n",
            "Epoch 92/100\n",
            "4/4 [==============================] - 0s 11ms/step - loss: 4.4414 - mean_absolute_percentage_error: 4.4414 - val_loss: 3.8808 - val_mean_absolute_percentage_error: 3.8808\n",
            "Epoch 93/100\n",
            "4/4 [==============================] - 0s 11ms/step - loss: 4.9469 - mean_absolute_percentage_error: 4.9469 - val_loss: 5.8379 - val_mean_absolute_percentage_error: 5.8379\n",
            "Epoch 94/100\n",
            "4/4 [==============================] - 0s 12ms/step - loss: 3.2737 - mean_absolute_percentage_error: 3.2737 - val_loss: 3.3951 - val_mean_absolute_percentage_error: 3.3951\n",
            "Epoch 95/100\n",
            "4/4 [==============================] - 0s 12ms/step - loss: 2.4608 - mean_absolute_percentage_error: 2.4608 - val_loss: 2.2443 - val_mean_absolute_percentage_error: 2.2443\n",
            "Epoch 96/100\n",
            "4/4 [==============================] - 0s 14ms/step - loss: 1.9990 - mean_absolute_percentage_error: 1.9990 - val_loss: 2.9560 - val_mean_absolute_percentage_error: 2.9560\n",
            "Epoch 97/100\n",
            "4/4 [==============================] - 0s 12ms/step - loss: 2.4712 - mean_absolute_percentage_error: 2.4712 - val_loss: 2.7734 - val_mean_absolute_percentage_error: 2.7734\n",
            "Epoch 98/100\n",
            "4/4 [==============================] - 0s 13ms/step - loss: 2.4146 - mean_absolute_percentage_error: 2.4146 - val_loss: 2.2260 - val_mean_absolute_percentage_error: 2.2260\n",
            "Epoch 99/100\n",
            "4/4 [==============================] - 0s 14ms/step - loss: 2.2383 - mean_absolute_percentage_error: 2.2383 - val_loss: 3.8657 - val_mean_absolute_percentage_error: 3.8657\n",
            "Epoch 100/100\n",
            "4/4 [==============================] - 0s 12ms/step - loss: 3.9073 - mean_absolute_percentage_error: 3.9073 - val_loss: 2.3999 - val_mean_absolute_percentage_error: 2.3999\n",
            "CPU times: user 5.85 s, sys: 580 ms, total: 6.43 s\n",
            "Wall time: 6.19 s\n"
          ],
          "name": "stdout"
        }
      ]
    },
    {
      "cell_type": "code",
      "metadata": {
        "colab": {
          "base_uri": "https://localhost:8080/",
          "height": 278
        },
        "id": "Sslp80KipXyf",
        "outputId": "168b7d1c-8872-4e15-e726-20dcc09a7c18"
      },
      "source": [
        "def plot_loss(history):\n",
        "  plt.plot(history.history['loss'], label='loss')\n",
        "  plt.plot(history.history['val_loss'], label='val_loss')\n",
        "  #plt.ylim([0, 10])\n",
        "  plt.xlabel('Epoch')\n",
        "  plt.ylabel('MAPE')\n",
        "  plt.legend()\n",
        "  plt.grid(True)\n",
        "  \n",
        "plot_loss(optimal_history)"
      ],
      "execution_count": 81,
      "outputs": [
        {
          "output_type": "display_data",
          "data": {
            "image/png": "[encoded data removed]",
            "text/plain": [
              "<Figure size 432x288 with 1 Axes>"
            ]
          },
          "metadata": {
            "tags": [],
            "needs_background": "light"
          }
        }
      ]
    },
    {
      "cell_type": "code",
      "metadata": {
        "colab": {
          "base_uri": "https://localhost:8080/"
        },
        "id": "_ItV1jt6qJXb",
        "outputId": "d3c31170-3402-40e5-a82d-c9d78c592d2f"
      },
      "source": [
        "# Minimum Validation MAPE\n",
        "print(min(optimal_history.history['val_loss']))"
      ],
      "execution_count": 82,
      "outputs": [
        {
          "output_type": "stream",
          "text": [
            "1.685780644416809\n"
          ],
          "name": "stdout"
        }
      ]
    },
    {
      "cell_type": "code",
      "metadata": {
        "colab": {
          "base_uri": "https://localhost:8080/"
        },
        "id": "gJ2u_cwtqO-L",
        "outputId": "b8a08c63-9ca0-4c0d-f8c0-c37c2c6c7cde"
      },
      "source": [
        "test_results['optimal_model'] = optimal_model.evaluate(test_features, test_labels, verbose=1)\n",
        "test_results"
      ],
      "execution_count": 83,
      "outputs": [
        {
          "output_type": "stream",
          "text": [
            "2/2 [==============================] - 0s 8ms/step - loss: 2.2762 - mean_absolute_percentage_error: 2.2762\n"
          ],
          "name": "stdout"
        },
        {
          "output_type": "execute_result",
          "data": {
            "text/plain": [
              "{'baseline_model': 8.265131950378418,\n",
              " 'optimal_model': [2.276172637939453, 2.276172637939453]}"
            ]
          },
          "metadata": {
            "tags": []
          },
          "execution_count": 83
        }
      ]
    },
    {
      "cell_type": "code",
      "metadata": {
        "colab": {
          "base_uri": "https://localhost:8080/",
          "height": 278
        },
        "id": "3CKNjMzuqmAv",
        "outputId": "7278bfd2-62a3-40ba-f6c5-48fb3ff52190"
      },
      "source": [
        "test_predictions = optimal_model.predict(test_features).flatten()\n",
        "\n",
        "a = plt.axes(aspect='equal')\n",
        "plt.scatter(test_labels, test_predictions)\n",
        "plt.xlabel('True Values')\n",
        "plt.ylabel('Predictions')\n",
        "lims = [50, 150]\n",
        "plt.xlim(lims)\n",
        "plt.ylim(lims)\n",
        "_ = plt.plot(lims, lims)"
      ],
      "execution_count": 84,
      "outputs": [
        {
          "output_type": "display_data",
          "data": {
            "image/png": "[encoded data removed]",
            "text/plain": [
              "<Figure size 432x288 with 1 Axes>"
            ]
          },
          "metadata": {
            "tags": [],
            "needs_background": "light"
          }
        }
      ]
    },
    {
      "cell_type": "code",
      "metadata": {
        "id": "HxHq_6Rdqpbw"
      },
      "source": [
        ""
      ],
      "execution_count": 84,
      "outputs": []
    }
  ]
}